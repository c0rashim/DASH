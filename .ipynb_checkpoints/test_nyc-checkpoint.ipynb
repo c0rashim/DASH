{
 "cells": [
  {
   "cell_type": "markdown",
   "id": "100543d0-91b5-4f93-8010-4f72022168d5",
   "metadata": {},
   "source": [
    "---\n",
    "title: \"NYCTaxi\"\n",
    "author: \"심채연(2018-21971)\"\n",
    "format: dashboard\n",
    "execute: \n",
    "  enabled: true\n",
    "  cache: false\n",
    "  freeze: false\n",
    "---"
   ]
  },
  {
   "cell_type": "code",
   "execution_count": 1,
   "id": "e38c6e01-0682-4f16-a7fc-0b59901e0628",
   "metadata": {},
   "outputs": [],
   "source": [
    "import numpy as np\n",
    "import pandas as pd\n",
    "import plotly.express as px\n",
    "import plotly.io as pio"
   ]
  },
  {
   "cell_type": "code",
   "execution_count": 2,
   "id": "eb253c55-8503-4203-b8a0-3a264574177c",
   "metadata": {},
   "outputs": [],
   "source": [
    "pd.options.plotting.backend = \"plotly\"\n",
    "pio.templates.default = \"plotly_white\""
   ]
  },
  {
   "cell_type": "code",
   "execution_count": 12,
   "id": "c7bba32f-539f-4cf0-afbd-c647ff8bb28f",
   "metadata": {},
   "outputs": [],
   "source": [
    "df = pd.read_csv(\"https://raw.githubusercontent.com/guebin/DV2023/main/posts/NYCTaxi.csv\").assign(\n",
    "    log_trip_duration = lambda df: np.log(df.trip_duration),\n",
    "    pickup_datetime = lambda df: df.pickup_datetime.apply(pd.to_datetime),\n",
    "    dropoff_datetime = lambda df: df.dropoff_datetime.apply(pd.to_datetime),\n",
    "    dist = lambda df: np.sqrt((df.pickup_latitude-df.dropoff_latitude)**2 + (df.pickup_longitude-df.dropoff_longitude)**2),\n",
    "    #---#\n",
    "    vendor_id = lambda df: df.vendor_id.map({1:'A',2:'B'})\n",
    ").assign(\n",
    "    speed = lambda df: df.dist / df.trip_duration,\n",
    "    pickup_hour = lambda df: df.pickup_datetime.dt.hour,\n",
    "    dropoff_hour = lambda df: df.dropoff_datetime.dt.hour,\n",
    "    dayofweek = lambda df: df.pickup_datetime.dt.dayofweek, \n",
    "    dayofweek_kr=lambda df: df.pickup_datetime.dt.dayofweek.map(lambda x: {0: '월', 1: '화', 2: '수', 3: '목', 4: '금', 5: '토', 6: '일'}.get(x))\n",
    ")\n",
    "df_small = df[::100].reset_index(drop=True)"
   ]
  },
  {
   "cell_type": "markdown",
   "id": "6f0f2ed4-2e07-4c08-a808-a97bde515695",
   "metadata": {},
   "source": [
    "## `(1)` 요일,시간에 따른 평균속력 시각화 – 25점\n",
    "\n",
    "자료 `df`에서 시간에 따른 평균속력을 구하고 이를 대시보드에 시각화하라.\n",
    "\n",
    "**README**\n",
    "\n",
    "-   요일은 `{0:'월',1:'화',2:'수',3:'목',4:'금',5:'토',6:'일'}`의 규칙에\n",
    "    따라 변환할 것\n"
   ]
  },
  {
   "cell_type": "code",
   "execution_count": 18,
   "id": "990b6db2-8dcc-46c6-8dfd-9c77091632fa",
   "metadata": {},
   "outputs": [
    {
     "data": {
      "text/html": [
       "<div>\n",
       "<style scoped>\n",
       "    .dataframe tbody tr th:only-of-type {\n",
       "        vertical-align: middle;\n",
       "    }\n",
       "\n",
       "    .dataframe tbody tr th {\n",
       "        vertical-align: top;\n",
       "    }\n",
       "\n",
       "    .dataframe thead th {\n",
       "        text-align: right;\n",
       "    }\n",
       "</style>\n",
       "<table border=\"1\" class=\"dataframe\">\n",
       "  <thead>\n",
       "    <tr style=\"text-align: right;\">\n",
       "      <th></th>\n",
       "      <th>id</th>\n",
       "      <th>vendor_id</th>\n",
       "      <th>pickup_datetime</th>\n",
       "      <th>dropoff_datetime</th>\n",
       "      <th>passenger_count</th>\n",
       "      <th>pickup_longitude</th>\n",
       "      <th>pickup_latitude</th>\n",
       "      <th>dropoff_longitude</th>\n",
       "      <th>dropoff_latitude</th>\n",
       "      <th>store_and_fwd_flag</th>\n",
       "      <th>trip_duration</th>\n",
       "      <th>log_trip_duration</th>\n",
       "      <th>dist</th>\n",
       "      <th>speed</th>\n",
       "      <th>pickup_hour</th>\n",
       "      <th>dropoff_hour</th>\n",
       "      <th>dayofweek</th>\n",
       "      <th>dayofweek_kr</th>\n",
       "    </tr>\n",
       "  </thead>\n",
       "  <tbody>\n",
       "    <tr>\n",
       "      <th>0</th>\n",
       "      <td>id2875421</td>\n",
       "      <td>B</td>\n",
       "      <td>2016-03-14 17:24:55</td>\n",
       "      <td>2016-03-14 17:32:30</td>\n",
       "      <td>1</td>\n",
       "      <td>-73.982155</td>\n",
       "      <td>40.767937</td>\n",
       "      <td>-73.964630</td>\n",
       "      <td>40.765602</td>\n",
       "      <td>N</td>\n",
       "      <td>455</td>\n",
       "      <td>6.120297</td>\n",
       "      <td>0.017680</td>\n",
       "      <td>0.000039</td>\n",
       "      <td>17</td>\n",
       "      <td>17</td>\n",
       "      <td>0</td>\n",
       "      <td>월</td>\n",
       "    </tr>\n",
       "    <tr>\n",
       "      <th>1</th>\n",
       "      <td>id3194108</td>\n",
       "      <td>A</td>\n",
       "      <td>2016-06-01 11:48:41</td>\n",
       "      <td>2016-06-01 12:19:07</td>\n",
       "      <td>1</td>\n",
       "      <td>-74.005028</td>\n",
       "      <td>40.746452</td>\n",
       "      <td>-73.972008</td>\n",
       "      <td>40.745781</td>\n",
       "      <td>N</td>\n",
       "      <td>1826</td>\n",
       "      <td>7.509883</td>\n",
       "      <td>0.033027</td>\n",
       "      <td>0.000018</td>\n",
       "      <td>11</td>\n",
       "      <td>12</td>\n",
       "      <td>2</td>\n",
       "      <td>수</td>\n",
       "    </tr>\n",
       "    <tr>\n",
       "      <th>2</th>\n",
       "      <td>id3564028</td>\n",
       "      <td>A</td>\n",
       "      <td>2016-01-02 01:16:42</td>\n",
       "      <td>2016-01-02 01:19:56</td>\n",
       "      <td>1</td>\n",
       "      <td>-73.954132</td>\n",
       "      <td>40.774784</td>\n",
       "      <td>-73.947418</td>\n",
       "      <td>40.779633</td>\n",
       "      <td>N</td>\n",
       "      <td>194</td>\n",
       "      <td>5.267858</td>\n",
       "      <td>0.008282</td>\n",
       "      <td>0.000043</td>\n",
       "      <td>1</td>\n",
       "      <td>1</td>\n",
       "      <td>5</td>\n",
       "      <td>토</td>\n",
       "    </tr>\n",
       "    <tr>\n",
       "      <th>3</th>\n",
       "      <td>id1660823</td>\n",
       "      <td>B</td>\n",
       "      <td>2016-03-01 06:40:18</td>\n",
       "      <td>2016-03-01 07:01:37</td>\n",
       "      <td>5</td>\n",
       "      <td>-73.982140</td>\n",
       "      <td>40.775326</td>\n",
       "      <td>-74.009850</td>\n",
       "      <td>40.721699</td>\n",
       "      <td>N</td>\n",
       "      <td>1279</td>\n",
       "      <td>7.153834</td>\n",
       "      <td>0.060363</td>\n",
       "      <td>0.000047</td>\n",
       "      <td>6</td>\n",
       "      <td>7</td>\n",
       "      <td>1</td>\n",
       "      <td>화</td>\n",
       "    </tr>\n",
       "    <tr>\n",
       "      <th>4</th>\n",
       "      <td>id1575277</td>\n",
       "      <td>B</td>\n",
       "      <td>2016-06-11 16:59:15</td>\n",
       "      <td>2016-06-11 17:33:27</td>\n",
       "      <td>1</td>\n",
       "      <td>-73.999229</td>\n",
       "      <td>40.722881</td>\n",
       "      <td>-73.982880</td>\n",
       "      <td>40.778297</td>\n",
       "      <td>N</td>\n",
       "      <td>2052</td>\n",
       "      <td>7.626570</td>\n",
       "      <td>0.057778</td>\n",
       "      <td>0.000028</td>\n",
       "      <td>16</td>\n",
       "      <td>17</td>\n",
       "      <td>5</td>\n",
       "      <td>토</td>\n",
       "    </tr>\n",
       "  </tbody>\n",
       "</table>\n",
       "</div>"
      ],
      "text/plain": [
       "          id vendor_id     pickup_datetime    dropoff_datetime  \\\n",
       "0  id2875421         B 2016-03-14 17:24:55 2016-03-14 17:32:30   \n",
       "1  id3194108         A 2016-06-01 11:48:41 2016-06-01 12:19:07   \n",
       "2  id3564028         A 2016-01-02 01:16:42 2016-01-02 01:19:56   \n",
       "3  id1660823         B 2016-03-01 06:40:18 2016-03-01 07:01:37   \n",
       "4  id1575277         B 2016-06-11 16:59:15 2016-06-11 17:33:27   \n",
       "\n",
       "   passenger_count  pickup_longitude  pickup_latitude  dropoff_longitude  \\\n",
       "0                1        -73.982155        40.767937         -73.964630   \n",
       "1                1        -74.005028        40.746452         -73.972008   \n",
       "2                1        -73.954132        40.774784         -73.947418   \n",
       "3                5        -73.982140        40.775326         -74.009850   \n",
       "4                1        -73.999229        40.722881         -73.982880   \n",
       "\n",
       "   dropoff_latitude store_and_fwd_flag  trip_duration  log_trip_duration  \\\n",
       "0         40.765602                  N            455           6.120297   \n",
       "1         40.745781                  N           1826           7.509883   \n",
       "2         40.779633                  N            194           5.267858   \n",
       "3         40.721699                  N           1279           7.153834   \n",
       "4         40.778297                  N           2052           7.626570   \n",
       "\n",
       "       dist     speed  pickup_hour  dropoff_hour  dayofweek dayofweek_kr  \n",
       "0  0.017680  0.000039           17            17          0            월  \n",
       "1  0.033027  0.000018           11            12          2            수  \n",
       "2  0.008282  0.000043            1             1          5            토  \n",
       "3  0.060363  0.000047            6             7          1            화  \n",
       "4  0.057778  0.000028           16            17          5            토  "
      ]
     },
     "execution_count": 18,
     "metadata": {},
     "output_type": "execute_result"
    }
   ],
   "source": [
    "df.head()"
   ]
  },
  {
   "cell_type": "code",
   "execution_count": 20,
   "id": "f052b68e-4207-42c0-8797-4e2ece775b93",
   "metadata": {},
   "outputs": [
    {
     "data": {
      "application/vnd.plotly.v1+json": {
       "config": {
        "plotlyServerURL": "https://plot.ly"
       },
       "data": [
        {
         "coloraxis": "coloraxis",
         "hovertemplate": "pickup_hour: %{x}<br>dayofweek_kr: %{y}<br>Average Speed: %{z}<extra></extra>",
         "name": "0",
         "type": "heatmap",
         "x": [
          0,
          1,
          2,
          3,
          4,
          5,
          6,
          7,
          8,
          9,
          10,
          11,
          12,
          13,
          14,
          15,
          16,
          17,
          18,
          19,
          20,
          21,
          22,
          23
         ],
         "xaxis": "x",
         "y": [
          "금",
          "목",
          "수",
          "월",
          "일",
          "토",
          "화"
         ],
         "yaxis": "y",
         "z": [
          [
           4.889898395295332e-05,
           4.808840856559643e-05,
           4.878273252150626e-05,
           6.34974889800912e-05,
           6.419844452350097e-05,
           8.213525549634397e-05,
           5.5162509076601056e-05,
           4.3339251930531036e-05,
           3.3304999075313214e-05,
           3.012557127048596e-05,
           3.592488451595608e-05,
           3.0718583299376126e-05,
           2.9427012774861235e-05,
           3.454598391083255e-05,
           3.4045488976107045e-05,
           3.080162213079083e-05,
           3.485311718234654e-05,
           3.449227456730189e-05,
           3.7718419409648606e-05,
           3.553449344350005e-05,
           4.0243374440793287e-05,
           4.145330173617502e-05,
           3.966782648108991e-05,
           4.0172727931235506e-05
          ],
          [
           5.184038313132204e-05,
           5.431164883830948e-05,
           6.564506227576916e-05,
           6.256305382134688e-05,
           6.557612348720275e-05,
           6.734676487404748e-05,
           5.566553665245741e-05,
           3.8891036987676096e-05,
           3.194733733068311e-05,
           3.058161299605332e-05,
           2.841971807469577e-05,
           3.139054878128309e-05,
           2.8072220637437904e-05,
           2.912536814022494e-05,
           3.0483574952789655e-05,
           3.0482516889906108e-05,
           3.2536089830653354e-05,
           3.190937308395514e-05,
           3.5171677707915996e-05,
           3.666518614712408e-05,
           4.115466120544063e-05,
           4.285079309064918e-05,
           4.454546790905556e-05,
           4.862714201534865e-05
          ],
          [
           6.116378568153915e-05,
           5.95080286367072e-05,
           6.558620712482186e-05,
           6.827551865012208e-05,
           5.361846347616713e-05,
           6.279575915660333e-05,
           5.598712473866864e-05,
           4.077717937393523e-05,
           3.2903688520327856e-05,
           3.105778192517575e-05,
           3.096250909762546e-05,
           2.885125706597703e-05,
           2.8356901691793332e-05,
           3.2183704895910935e-05,
           3.2657360092844285e-05,
           3.2385313596706385e-05,
           3.513650692732357e-05,
           3.260243838756182e-05,
           3.426938006584745e-05,
           3.800713880661725e-05,
           4.463905911483369e-05,
           4.373551959756939e-05,
           4.390793462441752e-05,
           4.721072678728939e-05
          ],
          [
           6.192500620581454e-05,
           7.01657870423287e-05,
           4.722024947464294e-05,
           5.831838054486283e-05,
           7.501200117229855e-05,
           7.271806607809553e-05,
           5.82080690005862e-05,
           4.4350735375279734e-05,
           3.511552334477387e-05,
           2.997742168251701e-05,
           3.654893760953111e-05,
           3.567971201801838e-05,
           3.68351958924078e-05,
           3.626739408054189e-05,
           3.700353060885671e-05,
           3.416021507732824e-05,
           3.6374777610569375e-05,
           3.837000687649857e-05,
           3.687521512933487e-05,
           4.324538929618186e-05,
           4.7472294372555685e-05,
           4.6841728151185616e-05,
           5.075381481080666e-05,
           5.8369953650412785e-05
          ],
          [
           4.867451265381591e-05,
           4.5558581960528345e-05,
           5.371833554638321e-05,
           4.7426951540305794e-05,
           5.4501276502573515e-05,
           7.543749941217084e-05,
           7.952472316751356e-05,
           7.760794422122645e-05,
           5.849479587077e-05,
           4.551503691452916e-05,
           4.465601215456055e-05,
           4.5688966332788196e-05,
           4.496255086996648e-05,
           4.084005371383958e-05,
           3.917105541083395e-05,
           3.898352553179462e-05,
           3.6765405788468567e-05,
           4.2969895700655737e-05,
           3.965857969296879e-05,
           4.4004188079270204e-05,
           4.622882864080493e-05,
           5.028697201841166e-05,
           5.1209161076426195e-05,
           5.785112782340353e-05
          ],
          [
           4.57447448153166e-05,
           4.3779793536928186e-05,
           4.813530120600683e-05,
           5.3113156583687176e-05,
           5.36954428774924e-05,
           5.789639394612405e-05,
           6.295669093404916e-05,
           5.823198976572878e-05,
           6.329730608490566e-05,
           4.538403845477675e-05,
           4.287566907836539e-05,
           4.012185557659054e-05,
           3.8568061286522577e-05,
           3.334539954204504e-05,
           3.817735599696121e-05,
           3.546830176689362e-05,
           3.670828647599709e-05,
           3.648929023122584e-05,
           3.583103523861355e-05,
           3.315983385198783e-05,
           3.5949554491412764e-05,
           3.945642365833438e-05,
           4.101380586816511e-05,
           3.869980757776298e-05
          ],
          [
           5.449040166377657e-05,
           5.371153739926472e-05,
           5.9327518000189613e-05,
           6.501232110857415e-05,
           6.09770720963975e-05,
           7.368294268979752e-05,
           5.296087558310268e-05,
           4.014571412064587e-05,
           3.0239910535490427e-05,
           3.0295735687408936e-05,
           2.8788144332399327e-05,
           3.1401137001383755e-05,
           3.1082537741861597e-05,
           3.2717081723126535e-05,
           3.3209439857716466e-05,
           3.0926922714119265e-05,
           3.490920149655713e-05,
           3.651160551548555e-05,
           3.5197765617747696e-05,
           4.084229687121748e-05,
           4.420867847885844e-05,
           4.604553865445799e-05,
           4.6374251298536607e-05,
           5.0336294998193645e-05
          ]
         ]
        }
       ],
       "layout": {
        "autosize": true,
        "coloraxis": {
         "colorbar": {
          "title": {
           "text": "Average Speed"
          }
         },
         "colorscale": [
          [
           0,
           "#440154"
          ],
          [
           0.1111111111111111,
           "#482878"
          ],
          [
           0.2222222222222222,
           "#3e4989"
          ],
          [
           0.3333333333333333,
           "#31688e"
          ],
          [
           0.4444444444444444,
           "#26828e"
          ],
          [
           0.5555555555555556,
           "#1f9e89"
          ],
          [
           0.6666666666666666,
           "#35b779"
          ],
          [
           0.7777777777777778,
           "#6ece58"
          ],
          [
           0.8888888888888888,
           "#b5de2b"
          ],
          [
           1,
           "#fde725"
          ]
         ]
        },
        "margin": {
         "t": 60
        },
        "template": {
         "data": {
          "bar": [
           {
            "error_x": {
             "color": "#2a3f5f"
            },
            "error_y": {
             "color": "#2a3f5f"
            },
            "marker": {
             "line": {
              "color": "white",
              "width": 0.5
             },
             "pattern": {
              "fillmode": "overlay",
              "size": 10,
              "solidity": 0.2
             }
            },
            "type": "bar"
           }
          ],
          "barpolar": [
           {
            "marker": {
             "line": {
              "color": "white",
              "width": 0.5
             },
             "pattern": {
              "fillmode": "overlay",
              "size": 10,
              "solidity": 0.2
             }
            },
            "type": "barpolar"
           }
          ],
          "carpet": [
           {
            "aaxis": {
             "endlinecolor": "#2a3f5f",
             "gridcolor": "#C8D4E3",
             "linecolor": "#C8D4E3",
             "minorgridcolor": "#C8D4E3",
             "startlinecolor": "#2a3f5f"
            },
            "baxis": {
             "endlinecolor": "#2a3f5f",
             "gridcolor": "#C8D4E3",
             "linecolor": "#C8D4E3",
             "minorgridcolor": "#C8D4E3",
             "startlinecolor": "#2a3f5f"
            },
            "type": "carpet"
           }
          ],
          "choropleth": [
           {
            "colorbar": {
             "outlinewidth": 0,
             "ticks": ""
            },
            "type": "choropleth"
           }
          ],
          "contour": [
           {
            "colorbar": {
             "outlinewidth": 0,
             "ticks": ""
            },
            "colorscale": [
             [
              0,
              "#0d0887"
             ],
             [
              0.1111111111111111,
              "#46039f"
             ],
             [
              0.2222222222222222,
              "#7201a8"
             ],
             [
              0.3333333333333333,
              "#9c179e"
             ],
             [
              0.4444444444444444,
              "#bd3786"
             ],
             [
              0.5555555555555556,
              "#d8576b"
             ],
             [
              0.6666666666666666,
              "#ed7953"
             ],
             [
              0.7777777777777778,
              "#fb9f3a"
             ],
             [
              0.8888888888888888,
              "#fdca26"
             ],
             [
              1,
              "#f0f921"
             ]
            ],
            "type": "contour"
           }
          ],
          "contourcarpet": [
           {
            "colorbar": {
             "outlinewidth": 0,
             "ticks": ""
            },
            "type": "contourcarpet"
           }
          ],
          "heatmap": [
           {
            "colorbar": {
             "outlinewidth": 0,
             "ticks": ""
            },
            "colorscale": [
             [
              0,
              "#0d0887"
             ],
             [
              0.1111111111111111,
              "#46039f"
             ],
             [
              0.2222222222222222,
              "#7201a8"
             ],
             [
              0.3333333333333333,
              "#9c179e"
             ],
             [
              0.4444444444444444,
              "#bd3786"
             ],
             [
              0.5555555555555556,
              "#d8576b"
             ],
             [
              0.6666666666666666,
              "#ed7953"
             ],
             [
              0.7777777777777778,
              "#fb9f3a"
             ],
             [
              0.8888888888888888,
              "#fdca26"
             ],
             [
              1,
              "#f0f921"
             ]
            ],
            "type": "heatmap"
           }
          ],
          "heatmapgl": [
           {
            "colorbar": {
             "outlinewidth": 0,
             "ticks": ""
            },
            "colorscale": [
             [
              0,
              "#0d0887"
             ],
             [
              0.1111111111111111,
              "#46039f"
             ],
             [
              0.2222222222222222,
              "#7201a8"
             ],
             [
              0.3333333333333333,
              "#9c179e"
             ],
             [
              0.4444444444444444,
              "#bd3786"
             ],
             [
              0.5555555555555556,
              "#d8576b"
             ],
             [
              0.6666666666666666,
              "#ed7953"
             ],
             [
              0.7777777777777778,
              "#fb9f3a"
             ],
             [
              0.8888888888888888,
              "#fdca26"
             ],
             [
              1,
              "#f0f921"
             ]
            ],
            "type": "heatmapgl"
           }
          ],
          "histogram": [
           {
            "marker": {
             "pattern": {
              "fillmode": "overlay",
              "size": 10,
              "solidity": 0.2
             }
            },
            "type": "histogram"
           }
          ],
          "histogram2d": [
           {
            "colorbar": {
             "outlinewidth": 0,
             "ticks": ""
            },
            "colorscale": [
             [
              0,
              "#0d0887"
             ],
             [
              0.1111111111111111,
              "#46039f"
             ],
             [
              0.2222222222222222,
              "#7201a8"
             ],
             [
              0.3333333333333333,
              "#9c179e"
             ],
             [
              0.4444444444444444,
              "#bd3786"
             ],
             [
              0.5555555555555556,
              "#d8576b"
             ],
             [
              0.6666666666666666,
              "#ed7953"
             ],
             [
              0.7777777777777778,
              "#fb9f3a"
             ],
             [
              0.8888888888888888,
              "#fdca26"
             ],
             [
              1,
              "#f0f921"
             ]
            ],
            "type": "histogram2d"
           }
          ],
          "histogram2dcontour": [
           {
            "colorbar": {
             "outlinewidth": 0,
             "ticks": ""
            },
            "colorscale": [
             [
              0,
              "#0d0887"
             ],
             [
              0.1111111111111111,
              "#46039f"
             ],
             [
              0.2222222222222222,
              "#7201a8"
             ],
             [
              0.3333333333333333,
              "#9c179e"
             ],
             [
              0.4444444444444444,
              "#bd3786"
             ],
             [
              0.5555555555555556,
              "#d8576b"
             ],
             [
              0.6666666666666666,
              "#ed7953"
             ],
             [
              0.7777777777777778,
              "#fb9f3a"
             ],
             [
              0.8888888888888888,
              "#fdca26"
             ],
             [
              1,
              "#f0f921"
             ]
            ],
            "type": "histogram2dcontour"
           }
          ],
          "mesh3d": [
           {
            "colorbar": {
             "outlinewidth": 0,
             "ticks": ""
            },
            "type": "mesh3d"
           }
          ],
          "parcoords": [
           {
            "line": {
             "colorbar": {
              "outlinewidth": 0,
              "ticks": ""
             }
            },
            "type": "parcoords"
           }
          ],
          "pie": [
           {
            "automargin": true,
            "type": "pie"
           }
          ],
          "scatter": [
           {
            "fillpattern": {
             "fillmode": "overlay",
             "size": 10,
             "solidity": 0.2
            },
            "type": "scatter"
           }
          ],
          "scatter3d": [
           {
            "line": {
             "colorbar": {
              "outlinewidth": 0,
              "ticks": ""
             }
            },
            "marker": {
             "colorbar": {
              "outlinewidth": 0,
              "ticks": ""
             }
            },
            "type": "scatter3d"
           }
          ],
          "scattercarpet": [
           {
            "marker": {
             "colorbar": {
              "outlinewidth": 0,
              "ticks": ""
             }
            },
            "type": "scattercarpet"
           }
          ],
          "scattergeo": [
           {
            "marker": {
             "colorbar": {
              "outlinewidth": 0,
              "ticks": ""
             }
            },
            "type": "scattergeo"
           }
          ],
          "scattergl": [
           {
            "marker": {
             "colorbar": {
              "outlinewidth": 0,
              "ticks": ""
             }
            },
            "type": "scattergl"
           }
          ],
          "scattermapbox": [
           {
            "marker": {
             "colorbar": {
              "outlinewidth": 0,
              "ticks": ""
             }
            },
            "type": "scattermapbox"
           }
          ],
          "scatterpolar": [
           {
            "marker": {
             "colorbar": {
              "outlinewidth": 0,
              "ticks": ""
             }
            },
            "type": "scatterpolar"
           }
          ],
          "scatterpolargl": [
           {
            "marker": {
             "colorbar": {
              "outlinewidth": 0,
              "ticks": ""
             }
            },
            "type": "scatterpolargl"
           }
          ],
          "scatterternary": [
           {
            "marker": {
             "colorbar": {
              "outlinewidth": 0,
              "ticks": ""
             }
            },
            "type": "scatterternary"
           }
          ],
          "surface": [
           {
            "colorbar": {
             "outlinewidth": 0,
             "ticks": ""
            },
            "colorscale": [
             [
              0,
              "#0d0887"
             ],
             [
              0.1111111111111111,
              "#46039f"
             ],
             [
              0.2222222222222222,
              "#7201a8"
             ],
             [
              0.3333333333333333,
              "#9c179e"
             ],
             [
              0.4444444444444444,
              "#bd3786"
             ],
             [
              0.5555555555555556,
              "#d8576b"
             ],
             [
              0.6666666666666666,
              "#ed7953"
             ],
             [
              0.7777777777777778,
              "#fb9f3a"
             ],
             [
              0.8888888888888888,
              "#fdca26"
             ],
             [
              1,
              "#f0f921"
             ]
            ],
            "type": "surface"
           }
          ],
          "table": [
           {
            "cells": {
             "fill": {
              "color": "#EBF0F8"
             },
             "line": {
              "color": "white"
             }
            },
            "header": {
             "fill": {
              "color": "#C8D4E3"
             },
             "line": {
              "color": "white"
             }
            },
            "type": "table"
           }
          ]
         },
         "layout": {
          "annotationdefaults": {
           "arrowcolor": "#2a3f5f",
           "arrowhead": 0,
           "arrowwidth": 1
          },
          "autotypenumbers": "strict",
          "coloraxis": {
           "colorbar": {
            "outlinewidth": 0,
            "ticks": ""
           }
          },
          "colorscale": {
           "diverging": [
            [
             0,
             "#8e0152"
            ],
            [
             0.1,
             "#c51b7d"
            ],
            [
             0.2,
             "#de77ae"
            ],
            [
             0.3,
             "#f1b6da"
            ],
            [
             0.4,
             "#fde0ef"
            ],
            [
             0.5,
             "#f7f7f7"
            ],
            [
             0.6,
             "#e6f5d0"
            ],
            [
             0.7,
             "#b8e186"
            ],
            [
             0.8,
             "#7fbc41"
            ],
            [
             0.9,
             "#4d9221"
            ],
            [
             1,
             "#276419"
            ]
           ],
           "sequential": [
            [
             0,
             "#0d0887"
            ],
            [
             0.1111111111111111,
             "#46039f"
            ],
            [
             0.2222222222222222,
             "#7201a8"
            ],
            [
             0.3333333333333333,
             "#9c179e"
            ],
            [
             0.4444444444444444,
             "#bd3786"
            ],
            [
             0.5555555555555556,
             "#d8576b"
            ],
            [
             0.6666666666666666,
             "#ed7953"
            ],
            [
             0.7777777777777778,
             "#fb9f3a"
            ],
            [
             0.8888888888888888,
             "#fdca26"
            ],
            [
             1,
             "#f0f921"
            ]
           ],
           "sequentialminus": [
            [
             0,
             "#0d0887"
            ],
            [
             0.1111111111111111,
             "#46039f"
            ],
            [
             0.2222222222222222,
             "#7201a8"
            ],
            [
             0.3333333333333333,
             "#9c179e"
            ],
            [
             0.4444444444444444,
             "#bd3786"
            ],
            [
             0.5555555555555556,
             "#d8576b"
            ],
            [
             0.6666666666666666,
             "#ed7953"
            ],
            [
             0.7777777777777778,
             "#fb9f3a"
            ],
            [
             0.8888888888888888,
             "#fdca26"
            ],
            [
             1,
             "#f0f921"
            ]
           ]
          },
          "colorway": [
           "#636efa",
           "#EF553B",
           "#00cc96",
           "#ab63fa",
           "#FFA15A",
           "#19d3f3",
           "#FF6692",
           "#B6E880",
           "#FF97FF",
           "#FECB52"
          ],
          "font": {
           "color": "#2a3f5f"
          },
          "geo": {
           "bgcolor": "white",
           "lakecolor": "white",
           "landcolor": "white",
           "showlakes": true,
           "showland": true,
           "subunitcolor": "#C8D4E3"
          },
          "hoverlabel": {
           "align": "left"
          },
          "hovermode": "closest",
          "mapbox": {
           "style": "light"
          },
          "paper_bgcolor": "white",
          "plot_bgcolor": "white",
          "polar": {
           "angularaxis": {
            "gridcolor": "#EBF0F8",
            "linecolor": "#EBF0F8",
            "ticks": ""
           },
           "bgcolor": "white",
           "radialaxis": {
            "gridcolor": "#EBF0F8",
            "linecolor": "#EBF0F8",
            "ticks": ""
           }
          },
          "scene": {
           "xaxis": {
            "backgroundcolor": "white",
            "gridcolor": "#DFE8F3",
            "gridwidth": 2,
            "linecolor": "#EBF0F8",
            "showbackground": true,
            "ticks": "",
            "zerolinecolor": "#EBF0F8"
           },
           "yaxis": {
            "backgroundcolor": "white",
            "gridcolor": "#DFE8F3",
            "gridwidth": 2,
            "linecolor": "#EBF0F8",
            "showbackground": true,
            "ticks": "",
            "zerolinecolor": "#EBF0F8"
           },
           "zaxis": {
            "backgroundcolor": "white",
            "gridcolor": "#DFE8F3",
            "gridwidth": 2,
            "linecolor": "#EBF0F8",
            "showbackground": true,
            "ticks": "",
            "zerolinecolor": "#EBF0F8"
           }
          },
          "shapedefaults": {
           "line": {
            "color": "#2a3f5f"
           }
          },
          "ternary": {
           "aaxis": {
            "gridcolor": "#DFE8F3",
            "linecolor": "#A2B1C6",
            "ticks": ""
           },
           "baxis": {
            "gridcolor": "#DFE8F3",
            "linecolor": "#A2B1C6",
            "ticks": ""
           },
           "bgcolor": "white",
           "caxis": {
            "gridcolor": "#DFE8F3",
            "linecolor": "#A2B1C6",
            "ticks": ""
           }
          },
          "title": {
           "x": 0.05
          },
          "xaxis": {
           "automargin": true,
           "gridcolor": "#EBF0F8",
           "linecolor": "#EBF0F8",
           "ticks": "",
           "title": {
            "standoff": 15
           },
           "zerolinecolor": "#EBF0F8",
           "zerolinewidth": 2
          },
          "yaxis": {
           "automargin": true,
           "gridcolor": "#EBF0F8",
           "linecolor": "#EBF0F8",
           "ticks": "",
           "title": {
            "standoff": 15
           },
           "zerolinecolor": "#EBF0F8",
           "zerolinewidth": 2
          }
         }
        },
        "title": {
         "text": "Average Speed by Day of the Week and Hour of the Day"
        },
        "xaxis": {
         "anchor": "y",
         "autorange": true,
         "constrain": "domain",
         "domain": [
          0,
          1
         ],
         "range": [
          -0.5,
          23.5
         ],
         "scaleanchor": "y",
         "title": {
          "text": "Hour of the Day"
         },
         "type": "linear"
        },
        "yaxis": {
         "anchor": "x",
         "autorange": true,
         "constrain": "domain",
         "domain": [
          0,
          1
         ],
         "range": [
          6.5,
          -0.5
         ],
         "title": {
          "text": "Day of the Week"
         },
         "type": "category"
        }
       }
      },
      "image/png": "[encoded data removed]",
      "text/html": [
       "<div>                            <div id=\"9c078bbe-ef87-4693-96d4-eb45fbc374c4\" class=\"plotly-graph-div\" style=\"height:525px; width:100%;\"></div>            <script type=\"text/javascript\">                require([\"plotly\"], function(Plotly) {                    window.PLOTLYENV=window.PLOTLYENV || {};                                    if (document.getElementById(\"9c078bbe-ef87-4693-96d4-eb45fbc374c4\")) {                    Plotly.newPlot(                        \"9c078bbe-ef87-4693-96d4-eb45fbc374c4\",                        [{\"coloraxis\":\"coloraxis\",\"name\":\"0\",\"x\":[0,1,2,3,4,5,6,7,8,9,10,11,12,13,14,15,16,17,18,19,20,21,22,23],\"y\":[\"\\uae08\",\"\\ubaa9\",\"\\uc218\",\"\\uc6d4\",\"\\uc77c\",\"\\ud1a0\",\"\\ud654\"],\"z\":[[4.889898395295332e-05,4.808840856559643e-05,4.878273252150626e-05,6.34974889800912e-05,6.419844452350097e-05,8.213525549634397e-05,5.5162509076601056e-05,4.3339251930531036e-05,3.3304999075313214e-05,3.012557127048596e-05,3.592488451595608e-05,3.0718583299376126e-05,2.9427012774861235e-05,3.454598391083255e-05,3.4045488976107045e-05,3.080162213079083e-05,3.485311718234654e-05,3.449227456730189e-05,3.7718419409648606e-05,3.553449344350005e-05,4.0243374440793287e-05,4.145330173617502e-05,3.966782648108991e-05,4.0172727931235506e-05],[5.184038313132204e-05,5.431164883830948e-05,6.564506227576916e-05,6.256305382134688e-05,6.557612348720275e-05,6.734676487404748e-05,5.566553665245741e-05,3.8891036987676096e-05,3.194733733068311e-05,3.058161299605332e-05,2.841971807469577e-05,3.139054878128309e-05,2.8072220637437904e-05,2.912536814022494e-05,3.0483574952789655e-05,3.0482516889906108e-05,3.2536089830653354e-05,3.190937308395514e-05,3.5171677707915996e-05,3.666518614712408e-05,4.115466120544063e-05,4.285079309064918e-05,4.454546790905556e-05,4.862714201534865e-05],[6.116378568153915e-05,5.95080286367072e-05,6.558620712482186e-05,6.827551865012208e-05,5.361846347616713e-05,6.279575915660333e-05,5.598712473866864e-05,4.077717937393523e-05,3.2903688520327856e-05,3.105778192517575e-05,3.096250909762546e-05,2.885125706597703e-05,2.8356901691793332e-05,3.2183704895910935e-05,3.2657360092844285e-05,3.2385313596706385e-05,3.513650692732357e-05,3.260243838756182e-05,3.426938006584745e-05,3.800713880661725e-05,4.463905911483369e-05,4.373551959756939e-05,4.390793462441752e-05,4.721072678728939e-05],[6.192500620581454e-05,7.01657870423287e-05,4.722024947464294e-05,5.831838054486283e-05,7.501200117229855e-05,7.271806607809553e-05,5.82080690005862e-05,4.4350735375279734e-05,3.511552334477387e-05,2.997742168251701e-05,3.654893760953111e-05,3.567971201801838e-05,3.68351958924078e-05,3.626739408054189e-05,3.700353060885671e-05,3.416021507732824e-05,3.6374777610569375e-05,3.837000687649857e-05,3.687521512933487e-05,4.324538929618186e-05,4.7472294372555685e-05,4.6841728151185616e-05,5.075381481080666e-05,5.8369953650412785e-05],[4.867451265381591e-05,4.5558581960528345e-05,5.371833554638321e-05,4.7426951540305794e-05,5.4501276502573515e-05,7.543749941217084e-05,7.952472316751356e-05,7.760794422122645e-05,5.849479587077e-05,4.551503691452916e-05,4.465601215456055e-05,4.5688966332788196e-05,4.496255086996648e-05,4.084005371383958e-05,3.917105541083395e-05,3.898352553179462e-05,3.6765405788468567e-05,4.2969895700655737e-05,3.965857969296879e-05,4.4004188079270204e-05,4.622882864080493e-05,5.028697201841166e-05,5.1209161076426195e-05,5.785112782340353e-05],[4.57447448153166e-05,4.3779793536928186e-05,4.813530120600683e-05,5.3113156583687176e-05,5.36954428774924e-05,5.789639394612405e-05,6.295669093404916e-05,5.823198976572878e-05,6.329730608490566e-05,4.538403845477675e-05,4.287566907836539e-05,4.012185557659054e-05,3.8568061286522577e-05,3.334539954204504e-05,3.817735599696121e-05,3.546830176689362e-05,3.670828647599709e-05,3.648929023122584e-05,3.583103523861355e-05,3.315983385198783e-05,3.5949554491412764e-05,3.945642365833438e-05,4.101380586816511e-05,3.869980757776298e-05],[5.449040166377657e-05,5.371153739926472e-05,5.9327518000189613e-05,6.501232110857415e-05,6.09770720963975e-05,7.368294268979752e-05,5.296087558310268e-05,4.014571412064587e-05,3.0239910535490427e-05,3.0295735687408936e-05,2.8788144332399327e-05,3.1401137001383755e-05,3.1082537741861597e-05,3.2717081723126535e-05,3.3209439857716466e-05,3.0926922714119265e-05,3.490920149655713e-05,3.651160551548555e-05,3.5197765617747696e-05,4.084229687121748e-05,4.420867847885844e-05,4.604553865445799e-05,4.6374251298536607e-05,5.0336294998193645e-05]],\"type\":\"heatmap\",\"xaxis\":\"x\",\"yaxis\":\"y\",\"hovertemplate\":\"pickup_hour: %{x}\\u003cbr\\u003edayofweek_kr: %{y}\\u003cbr\\u003eAverage Speed: %{z}\\u003cextra\\u003e\\u003c\\u002fextra\\u003e\"}],                        {\"template\":{\"data\":{\"histogram2dcontour\":[{\"type\":\"histogram2dcontour\",\"colorbar\":{\"outlinewidth\":0,\"ticks\":\"\"},\"colorscale\":[[0.0,\"#0d0887\"],[0.1111111111111111,\"#46039f\"],[0.2222222222222222,\"#7201a8\"],[0.3333333333333333,\"#9c179e\"],[0.4444444444444444,\"#bd3786\"],[0.5555555555555556,\"#d8576b\"],[0.6666666666666666,\"#ed7953\"],[0.7777777777777778,\"#fb9f3a\"],[0.8888888888888888,\"#fdca26\"],[1.0,\"#f0f921\"]]}],\"choropleth\":[{\"type\":\"choropleth\",\"colorbar\":{\"outlinewidth\":0,\"ticks\":\"\"}}],\"histogram2d\":[{\"type\":\"histogram2d\",\"colorbar\":{\"outlinewidth\":0,\"ticks\":\"\"},\"colorscale\":[[0.0,\"#0d0887\"],[0.1111111111111111,\"#46039f\"],[0.2222222222222222,\"#7201a8\"],[0.3333333333333333,\"#9c179e\"],[0.4444444444444444,\"#bd3786\"],[0.5555555555555556,\"#d8576b\"],[0.6666666666666666,\"#ed7953\"],[0.7777777777777778,\"#fb9f3a\"],[0.8888888888888888,\"#fdca26\"],[1.0,\"#f0f921\"]]}],\"heatmap\":[{\"type\":\"heatmap\",\"colorbar\":{\"outlinewidth\":0,\"ticks\":\"\"},\"colorscale\":[[0.0,\"#0d0887\"],[0.1111111111111111,\"#46039f\"],[0.2222222222222222,\"#7201a8\"],[0.3333333333333333,\"#9c179e\"],[0.4444444444444444,\"#bd3786\"],[0.5555555555555556,\"#d8576b\"],[0.6666666666666666,\"#ed7953\"],[0.7777777777777778,\"#fb9f3a\"],[0.8888888888888888,\"#fdca26\"],[1.0,\"#f0f921\"]]}],\"heatmapgl\":[{\"type\":\"heatmapgl\",\"colorbar\":{\"outlinewidth\":0,\"ticks\":\"\"},\"colorscale\":[[0.0,\"#0d0887\"],[0.1111111111111111,\"#46039f\"],[0.2222222222222222,\"#7201a8\"],[0.3333333333333333,\"#9c179e\"],[0.4444444444444444,\"#bd3786\"],[0.5555555555555556,\"#d8576b\"],[0.6666666666666666,\"#ed7953\"],[0.7777777777777778,\"#fb9f3a\"],[0.8888888888888888,\"#fdca26\"],[1.0,\"#f0f921\"]]}],\"contourcarpet\":[{\"type\":\"contourcarpet\",\"colorbar\":{\"outlinewidth\":0,\"ticks\":\"\"}}],\"contour\":[{\"type\":\"contour\",\"colorbar\":{\"outlinewidth\":0,\"ticks\":\"\"},\"colorscale\":[[0.0,\"#0d0887\"],[0.1111111111111111,\"#46039f\"],[0.2222222222222222,\"#7201a8\"],[0.3333333333333333,\"#9c179e\"],[0.4444444444444444,\"#bd3786\"],[0.5555555555555556,\"#d8576b\"],[0.6666666666666666,\"#ed7953\"],[0.7777777777777778,\"#fb9f3a\"],[0.8888888888888888,\"#fdca26\"],[1.0,\"#f0f921\"]]}],\"surface\":[{\"type\":\"surface\",\"colorbar\":{\"outlinewidth\":0,\"ticks\":\"\"},\"colorscale\":[[0.0,\"#0d0887\"],[0.1111111111111111,\"#46039f\"],[0.2222222222222222,\"#7201a8\"],[0.3333333333333333,\"#9c179e\"],[0.4444444444444444,\"#bd3786\"],[0.5555555555555556,\"#d8576b\"],[0.6666666666666666,\"#ed7953\"],[0.7777777777777778,\"#fb9f3a\"],[0.8888888888888888,\"#fdca26\"],[1.0,\"#f0f921\"]]}],\"mesh3d\":[{\"type\":\"mesh3d\",\"colorbar\":{\"outlinewidth\":0,\"ticks\":\"\"}}],\"scatter\":[{\"fillpattern\":{\"fillmode\":\"overlay\",\"size\":10,\"solidity\":0.2},\"type\":\"scatter\"}],\"parcoords\":[{\"type\":\"parcoords\",\"line\":{\"colorbar\":{\"outlinewidth\":0,\"ticks\":\"\"}}}],\"scatterpolargl\":[{\"type\":\"scatterpolargl\",\"marker\":{\"colorbar\":{\"outlinewidth\":0,\"ticks\":\"\"}}}],\"bar\":[{\"error_x\":{\"color\":\"#2a3f5f\"},\"error_y\":{\"color\":\"#2a3f5f\"},\"marker\":{\"line\":{\"color\":\"white\",\"width\":0.5},\"pattern\":{\"fillmode\":\"overlay\",\"size\":10,\"solidity\":0.2}},\"type\":\"bar\"}],\"scattergeo\":[{\"type\":\"scattergeo\",\"marker\":{\"colorbar\":{\"outlinewidth\":0,\"ticks\":\"\"}}}],\"scatterpolar\":[{\"type\":\"scatterpolar\",\"marker\":{\"colorbar\":{\"outlinewidth\":0,\"ticks\":\"\"}}}],\"histogram\":[{\"marker\":{\"pattern\":{\"fillmode\":\"overlay\",\"size\":10,\"solidity\":0.2}},\"type\":\"histogram\"}],\"scattergl\":[{\"type\":\"scattergl\",\"marker\":{\"colorbar\":{\"outlinewidth\":0,\"ticks\":\"\"}}}],\"scatter3d\":[{\"type\":\"scatter3d\",\"line\":{\"colorbar\":{\"outlinewidth\":0,\"ticks\":\"\"}},\"marker\":{\"colorbar\":{\"outlinewidth\":0,\"ticks\":\"\"}}}],\"scattermapbox\":[{\"type\":\"scattermapbox\",\"marker\":{\"colorbar\":{\"outlinewidth\":0,\"ticks\":\"\"}}}],\"scatterternary\":[{\"type\":\"scatterternary\",\"marker\":{\"colorbar\":{\"outlinewidth\":0,\"ticks\":\"\"}}}],\"scattercarpet\":[{\"type\":\"scattercarpet\",\"marker\":{\"colorbar\":{\"outlinewidth\":0,\"ticks\":\"\"}}}],\"carpet\":[{\"aaxis\":{\"endlinecolor\":\"#2a3f5f\",\"gridcolor\":\"#C8D4E3\",\"linecolor\":\"#C8D4E3\",\"minorgridcolor\":\"#C8D4E3\",\"startlinecolor\":\"#2a3f5f\"},\"baxis\":{\"endlinecolor\":\"#2a3f5f\",\"gridcolor\":\"#C8D4E3\",\"linecolor\":\"#C8D4E3\",\"minorgridcolor\":\"#C8D4E3\",\"startlinecolor\":\"#2a3f5f\"},\"type\":\"carpet\"}],\"table\":[{\"cells\":{\"fill\":{\"color\":\"#EBF0F8\"},\"line\":{\"color\":\"white\"}},\"header\":{\"fill\":{\"color\":\"#C8D4E3\"},\"line\":{\"color\":\"white\"}},\"type\":\"table\"}],\"barpolar\":[{\"marker\":{\"line\":{\"color\":\"white\",\"width\":0.5},\"pattern\":{\"fillmode\":\"overlay\",\"size\":10,\"solidity\":0.2}},\"type\":\"barpolar\"}],\"pie\":[{\"automargin\":true,\"type\":\"pie\"}]},\"layout\":{\"autotypenumbers\":\"strict\",\"colorway\":[\"#636efa\",\"#EF553B\",\"#00cc96\",\"#ab63fa\",\"#FFA15A\",\"#19d3f3\",\"#FF6692\",\"#B6E880\",\"#FF97FF\",\"#FECB52\"],\"font\":{\"color\":\"#2a3f5f\"},\"hovermode\":\"closest\",\"hoverlabel\":{\"align\":\"left\"},\"paper_bgcolor\":\"white\",\"plot_bgcolor\":\"white\",\"polar\":{\"bgcolor\":\"white\",\"angularaxis\":{\"gridcolor\":\"#EBF0F8\",\"linecolor\":\"#EBF0F8\",\"ticks\":\"\"},\"radialaxis\":{\"gridcolor\":\"#EBF0F8\",\"linecolor\":\"#EBF0F8\",\"ticks\":\"\"}},\"ternary\":{\"bgcolor\":\"white\",\"aaxis\":{\"gridcolor\":\"#DFE8F3\",\"linecolor\":\"#A2B1C6\",\"ticks\":\"\"},\"baxis\":{\"gridcolor\":\"#DFE8F3\",\"linecolor\":\"#A2B1C6\",\"ticks\":\"\"},\"caxis\":{\"gridcolor\":\"#DFE8F3\",\"linecolor\":\"#A2B1C6\",\"ticks\":\"\"}},\"coloraxis\":{\"colorbar\":{\"outlinewidth\":0,\"ticks\":\"\"}},\"colorscale\":{\"sequential\":[[0.0,\"#0d0887\"],[0.1111111111111111,\"#46039f\"],[0.2222222222222222,\"#7201a8\"],[0.3333333333333333,\"#9c179e\"],[0.4444444444444444,\"#bd3786\"],[0.5555555555555556,\"#d8576b\"],[0.6666666666666666,\"#ed7953\"],[0.7777777777777778,\"#fb9f3a\"],[0.8888888888888888,\"#fdca26\"],[1.0,\"#f0f921\"]],\"sequentialminus\":[[0.0,\"#0d0887\"],[0.1111111111111111,\"#46039f\"],[0.2222222222222222,\"#7201a8\"],[0.3333333333333333,\"#9c179e\"],[0.4444444444444444,\"#bd3786\"],[0.5555555555555556,\"#d8576b\"],[0.6666666666666666,\"#ed7953\"],[0.7777777777777778,\"#fb9f3a\"],[0.8888888888888888,\"#fdca26\"],[1.0,\"#f0f921\"]],\"diverging\":[[0,\"#8e0152\"],[0.1,\"#c51b7d\"],[0.2,\"#de77ae\"],[0.3,\"#f1b6da\"],[0.4,\"#fde0ef\"],[0.5,\"#f7f7f7\"],[0.6,\"#e6f5d0\"],[0.7,\"#b8e186\"],[0.8,\"#7fbc41\"],[0.9,\"#4d9221\"],[1,\"#276419\"]]},\"xaxis\":{\"gridcolor\":\"#EBF0F8\",\"linecolor\":\"#EBF0F8\",\"ticks\":\"\",\"title\":{\"standoff\":15},\"zerolinecolor\":\"#EBF0F8\",\"automargin\":true,\"zerolinewidth\":2},\"yaxis\":{\"gridcolor\":\"#EBF0F8\",\"linecolor\":\"#EBF0F8\",\"ticks\":\"\",\"title\":{\"standoff\":15},\"zerolinecolor\":\"#EBF0F8\",\"automargin\":true,\"zerolinewidth\":2},\"scene\":{\"xaxis\":{\"backgroundcolor\":\"white\",\"gridcolor\":\"#DFE8F3\",\"linecolor\":\"#EBF0F8\",\"showbackground\":true,\"ticks\":\"\",\"zerolinecolor\":\"#EBF0F8\",\"gridwidth\":2},\"yaxis\":{\"backgroundcolor\":\"white\",\"gridcolor\":\"#DFE8F3\",\"linecolor\":\"#EBF0F8\",\"showbackground\":true,\"ticks\":\"\",\"zerolinecolor\":\"#EBF0F8\",\"gridwidth\":2},\"zaxis\":{\"backgroundcolor\":\"white\",\"gridcolor\":\"#DFE8F3\",\"linecolor\":\"#EBF0F8\",\"showbackground\":true,\"ticks\":\"\",\"zerolinecolor\":\"#EBF0F8\",\"gridwidth\":2}},\"shapedefaults\":{\"line\":{\"color\":\"#2a3f5f\"}},\"annotationdefaults\":{\"arrowcolor\":\"#2a3f5f\",\"arrowhead\":0,\"arrowwidth\":1},\"geo\":{\"bgcolor\":\"white\",\"landcolor\":\"white\",\"subunitcolor\":\"#C8D4E3\",\"showland\":true,\"showlakes\":true,\"lakecolor\":\"white\"},\"title\":{\"x\":0.05},\"mapbox\":{\"style\":\"light\"}}},\"xaxis\":{\"anchor\":\"y\",\"domain\":[0.0,1.0],\"scaleanchor\":\"y\",\"constrain\":\"domain\",\"title\":{\"text\":\"Hour of the Day\"}},\"yaxis\":{\"anchor\":\"x\",\"domain\":[0.0,1.0],\"autorange\":\"reversed\",\"constrain\":\"domain\",\"title\":{\"text\":\"Day of the Week\"}},\"coloraxis\":{\"colorbar\":{\"title\":{\"text\":\"Average Speed\"}},\"colorscale\":[[0.0,\"#440154\"],[0.1111111111111111,\"#482878\"],[0.2222222222222222,\"#3e4989\"],[0.3333333333333333,\"#31688e\"],[0.4444444444444444,\"#26828e\"],[0.5555555555555556,\"#1f9e89\"],[0.6666666666666666,\"#35b779\"],[0.7777777777777778,\"#6ece58\"],[0.8888888888888888,\"#b5de2b\"],[1.0,\"#fde725\"]]},\"margin\":{\"t\":60},\"title\":{\"text\":\"Average Speed by Day of the Week and Hour of the Day\"}},                        {\"responsive\": true}                    ).then(function(){\n",
       "                            \n",
       "var gd = document.getElementById('9c078bbe-ef87-4693-96d4-eb45fbc374c4');\n",
       "var x = new MutationObserver(function (mutations, observer) {{\n",
       "        var display = window.getComputedStyle(gd).display;\n",
       "        if (!display || display === 'none') {{\n",
       "            console.log([gd, 'removed!']);\n",
       "            Plotly.purge(gd);\n",
       "            observer.disconnect();\n",
       "        }}\n",
       "}});\n",
       "\n",
       "// Listen for the removal of the full notebook cells\n",
       "var notebookContainer = gd.closest('#notebook-container');\n",
       "if (notebookContainer) {{\n",
       "    x.observe(notebookContainer, {childList: true});\n",
       "}}\n",
       "\n",
       "// Listen for the clearing of the current output cell\n",
       "var outputEl = gd.closest('.output');\n",
       "if (outputEl) {{\n",
       "    x.observe(outputEl, {childList: true});\n",
       "}}\n",
       "\n",
       "                        })                };                });            </script>        </div>"
      ]
     },
     "metadata": {},
     "output_type": "display_data"
    }
   ],
   "source": [
    "pivot_table = df.pivot_table(values='speed', index='dayofweek_kr', columns='pickup_hour', aggfunc='mean')\n",
    "\n",
    "fig = px.imshow(pivot_table, labels=dict(color=\"Average Speed\"), x=pivot_table.columns, y=pivot_table.index,\n",
    "                color_continuous_scale='Viridis')\n",
    "\n",
    "fig.update_layout(\n",
    "    xaxis_title=\"Hour of the Day\",\n",
    "    yaxis_title=\"Day of the Week\",\n",
    "    title=\"Average Speed by Day of the Week and Hour of the Day\"\n",
    ")\n",
    "\n",
    "fig.show()"
   ]
  },
  {
   "cell_type": "markdown",
   "id": "c7a09ca3-0cf0-432e-8c0f-d9fc21f5d5b4",
   "metadata": {},
   "source": [
    "## `(2)` 요일,시간에 따른 평균이동거리 시각화 – 25점\n",
    "\n",
    "자료 `df`에서 시간에 따른 평균이동거리를 구하고 이를 대시보드에\n",
    "시각화하라.\n",
    "\n",
    "**README**\n",
    "\n",
    "-   요일은 `{0:'월',1:'화',2:'수',3:'목',4:'금',5:'토',6:'일'}`의 규칙에\n",
    "    따라 변환할 것"
   ]
  },
  {
   "cell_type": "code",
   "execution_count": 24,
   "id": "9ece37c3-1e31-4e24-89f8-7382cf59ecf4",
   "metadata": {},
   "outputs": [
    {
     "data": {
      "application/vnd.plotly.v1+json": {
       "config": {
        "plotlyServerURL": "https://plot.ly"
       },
       "data": [
        {
         "coloraxis": "coloraxis",
         "hovertemplate": "pickup_hour: %{x}<br>dayofweek_kr: %{y}<br>Average Distance: %{z}<extra></extra>",
         "name": "0",
         "type": "heatmap",
         "x": [
          0,
          1,
          2,
          3,
          4,
          5,
          6,
          7,
          8,
          9,
          10,
          11,
          12,
          13,
          14,
          15,
          16,
          17,
          18,
          19,
          20,
          21,
          22,
          23
         ],
         "xaxis": "x",
         "y": [
          "금",
          "목",
          "수",
          "월",
          "일",
          "토",
          "화"
         ],
         "yaxis": "y",
         "z": [
          [
           0.03941914483917277,
           0.041799452835402005,
           0.02747939721328583,
           0.04467300794711169,
           0.06040430813029304,
           0.07023081911325425,
           0.038559495853808044,
           0.036675286599085095,
           0.032616090198524406,
           0.022036573919088698,
           0.0390431164668389,
           0.030196453798128214,
           0.02723147055623086,
           0.03293566054375842,
           0.043647154028390374,
           0.03415901588979847,
           0.03676054346801498,
           0.03317075478918968,
           0.027736605265520214,
           0.0327639608191616,
           0.03269130293295594,
           0.03259886897954823,
           0.03289081100831811,
           0.0341054864926265
          ],
          [
           0.04370735751553739,
           0.0417765374180669,
           0.046409338050018074,
           0.05493347173018719,
           0.061569806741913605,
           0.046512677925574106,
           0.05250827412143831,
           0.03531027339163442,
           0.029133885897888828,
           0.029901509572592543,
           0.027772390194162014,
           0.02858396613665924,
           0.02919986838270981,
           0.0317612270262194,
           0.03471946142251515,
           0.03516035201971669,
           0.032241751574696526,
           0.028428726680918188,
           0.030790591800766605,
           0.0276523888329859,
           0.03442330713780692,
           0.0468108838653546,
           0.03680314709375805,
           0.04528582049448872
          ],
          [
           0.06189425076297976,
           0.039073634201646286,
           0.04027817512479525,
           0.045001889217295234,
           0.02712641035763739,
           0.04090444437849963,
           0.03554282147884122,
           0.026562429760155624,
           0.028137832185748304,
           0.028848291392458557,
           0.03436772147280834,
           0.028384887815572114,
           0.029861333110209855,
           0.03094931538110388,
           0.04105512493816869,
           0.030896039734749265,
           0.0383327715434659,
           0.0440284327758578,
           0.034202250485253306,
           0.033418178249557354,
           0.037728969952857336,
           0.04105665766647581,
           0.03501931863015318,
           0.04053196598643651
          ],
          [
           0.03715809838079698,
           0.05200302769060466,
           0.03454166059277303,
           0.05596315189409232,
           0.07063039696986095,
           0.06426270786989556,
           0.034490535452775584,
           0.032737782045627016,
           0.03271897536089555,
           0.022300252808707045,
           0.036457711731007814,
           0.03259913640889305,
           0.03791273701584093,
           0.031148218766055,
           0.03073260549089396,
           0.03561671744114983,
           0.045856793688758724,
           0.03489709547473452,
           0.03206766072125966,
           0.030931047636591467,
           0.03478322182868066,
           0.03504153532967092,
           0.039807563106260796,
           0.041753717014843476
          ],
          [
           0.039962176173149275,
           0.0384030605806378,
           0.03932604021053794,
           0.037395030232690134,
           0.03617073372297567,
           0.0819519990101009,
           0.08455383063086612,
           0.07728771678955991,
           0.040662783558606266,
           0.02651724954324167,
           0.024978445983095104,
           0.035339142705562855,
           0.04011498662915437,
           0.03072317013788322,
           0.039420942718037456,
           0.041070572515632585,
           0.041828181994856564,
           0.04344609099751088,
           0.031280398092728846,
           0.033589561605802655,
           0.042991760551657536,
           0.04127852982142265,
           0.03989386796977483,
           0.04541865114558133
          ],
          [
           0.036707167535579545,
           0.03566950941170107,
           0.0380489921489175,
           0.03696210181836352,
           0.04587911863822203,
           0.04823124935776199,
           0.04423147111534784,
           0.03502778652413812,
           0.05684438361280244,
           0.02883829437172897,
           0.03135331752009965,
           0.029968986432524772,
           0.030354061779279694,
           0.02574892204102297,
           0.03185745950220361,
           0.03626576223452341,
           0.031655929237335456,
           0.03446797731080265,
           0.03424314095287038,
           0.026601148073475155,
           0.029834599637768515,
           0.028572862569402776,
           0.034023159026747324,
           0.03508011042417724
          ],
          [
           0.04549263088199272,
           0.026491866724439015,
           0.05237136448088479,
           0.042291832373646004,
           0.03189731490250098,
           0.052113797374228325,
           0.03625948497196739,
           0.036995698246546305,
           0.026760267886113808,
           0.027077751296383516,
           0.026826090075304745,
           0.034316439823832576,
           0.03498805312265091,
           0.035544501630472854,
           0.03838823500419107,
           0.02821292607678347,
           0.03586750914515103,
           0.03883433324239985,
           0.02572514272219912,
           0.033088420498453834,
           0.036793867026316575,
           0.03320750581322103,
           0.03796506613207811,
           0.0441184974197329
          ]
         ]
        }
       ],
       "layout": {
        "autosize": true,
        "coloraxis": {
         "colorbar": {
          "title": {
           "text": "Average Distance"
          }
         },
         "colorscale": [
          [
           0,
           "#440154"
          ],
          [
           0.1111111111111111,
           "#482878"
          ],
          [
           0.2222222222222222,
           "#3e4989"
          ],
          [
           0.3333333333333333,
           "#31688e"
          ],
          [
           0.4444444444444444,
           "#26828e"
          ],
          [
           0.5555555555555556,
           "#1f9e89"
          ],
          [
           0.6666666666666666,
           "#35b779"
          ],
          [
           0.7777777777777778,
           "#6ece58"
          ],
          [
           0.8888888888888888,
           "#b5de2b"
          ],
          [
           1,
           "#fde725"
          ]
         ]
        },
        "margin": {
         "t": 60
        },
        "template": {
         "data": {
          "bar": [
           {
            "error_x": {
             "color": "#2a3f5f"
            },
            "error_y": {
             "color": "#2a3f5f"
            },
            "marker": {
             "line": {
              "color": "white",
              "width": 0.5
             },
             "pattern": {
              "fillmode": "overlay",
              "size": 10,
              "solidity": 0.2
             }
            },
            "type": "bar"
           }
          ],
          "barpolar": [
           {
            "marker": {
             "line": {
              "color": "white",
              "width": 0.5
             },
             "pattern": {
              "fillmode": "overlay",
              "size": 10,
              "solidity": 0.2
             }
            },
            "type": "barpolar"
           }
          ],
          "carpet": [
           {
            "aaxis": {
             "endlinecolor": "#2a3f5f",
             "gridcolor": "#C8D4E3",
             "linecolor": "#C8D4E3",
             "minorgridcolor": "#C8D4E3",
             "startlinecolor": "#2a3f5f"
            },
            "baxis": {
             "endlinecolor": "#2a3f5f",
             "gridcolor": "#C8D4E3",
             "linecolor": "#C8D4E3",
             "minorgridcolor": "#C8D4E3",
             "startlinecolor": "#2a3f5f"
            },
            "type": "carpet"
           }
          ],
          "choropleth": [
           {
            "colorbar": {
             "outlinewidth": 0,
             "ticks": ""
            },
            "type": "choropleth"
           }
          ],
          "contour": [
           {
            "colorbar": {
             "outlinewidth": 0,
             "ticks": ""
            },
            "colorscale": [
             [
              0,
              "#0d0887"
             ],
             [
              0.1111111111111111,
              "#46039f"
             ],
             [
              0.2222222222222222,
              "#7201a8"
             ],
             [
              0.3333333333333333,
              "#9c179e"
             ],
             [
              0.4444444444444444,
              "#bd3786"
             ],
             [
              0.5555555555555556,
              "#d8576b"
             ],
             [
              0.6666666666666666,
              "#ed7953"
             ],
             [
              0.7777777777777778,
              "#fb9f3a"
             ],
             [
              0.8888888888888888,
              "#fdca26"
             ],
             [
              1,
              "#f0f921"
             ]
            ],
            "type": "contour"
           }
          ],
          "contourcarpet": [
           {
            "colorbar": {
             "outlinewidth": 0,
             "ticks": ""
            },
            "type": "contourcarpet"
           }
          ],
          "heatmap": [
           {
            "colorbar": {
             "outlinewidth": 0,
             "ticks": ""
            },
            "colorscale": [
             [
              0,
              "#0d0887"
             ],
             [
              0.1111111111111111,
              "#46039f"
             ],
             [
              0.2222222222222222,
              "#7201a8"
             ],
             [
              0.3333333333333333,
              "#9c179e"
             ],
             [
              0.4444444444444444,
              "#bd3786"
             ],
             [
              0.5555555555555556,
              "#d8576b"
             ],
             [
              0.6666666666666666,
              "#ed7953"
             ],
             [
              0.7777777777777778,
              "#fb9f3a"
             ],
             [
              0.8888888888888888,
              "#fdca26"
             ],
             [
              1,
              "#f0f921"
             ]
            ],
            "type": "heatmap"
           }
          ],
          "heatmapgl": [
           {
            "colorbar": {
             "outlinewidth": 0,
             "ticks": ""
            },
            "colorscale": [
             [
              0,
              "#0d0887"
             ],
             [
              0.1111111111111111,
              "#46039f"
             ],
             [
              0.2222222222222222,
              "#7201a8"
             ],
             [
              0.3333333333333333,
              "#9c179e"
             ],
             [
              0.4444444444444444,
              "#bd3786"
             ],
             [
              0.5555555555555556,
              "#d8576b"
             ],
             [
              0.6666666666666666,
              "#ed7953"
             ],
             [
              0.7777777777777778,
              "#fb9f3a"
             ],
             [
              0.8888888888888888,
              "#fdca26"
             ],
             [
              1,
              "#f0f921"
             ]
            ],
            "type": "heatmapgl"
           }
          ],
          "histogram": [
           {
            "marker": {
             "pattern": {
              "fillmode": "overlay",
              "size": 10,
              "solidity": 0.2
             }
            },
            "type": "histogram"
           }
          ],
          "histogram2d": [
           {
            "colorbar": {
             "outlinewidth": 0,
             "ticks": ""
            },
            "colorscale": [
             [
              0,
              "#0d0887"
             ],
             [
              0.1111111111111111,
              "#46039f"
             ],
             [
              0.2222222222222222,
              "#7201a8"
             ],
             [
              0.3333333333333333,
              "#9c179e"
             ],
             [
              0.4444444444444444,
              "#bd3786"
             ],
             [
              0.5555555555555556,
              "#d8576b"
             ],
             [
              0.6666666666666666,
              "#ed7953"
             ],
             [
              0.7777777777777778,
              "#fb9f3a"
             ],
             [
              0.8888888888888888,
              "#fdca26"
             ],
             [
              1,
              "#f0f921"
             ]
            ],
            "type": "histogram2d"
           }
          ],
          "histogram2dcontour": [
           {
            "colorbar": {
             "outlinewidth": 0,
             "ticks": ""
            },
            "colorscale": [
             [
              0,
              "#0d0887"
             ],
             [
              0.1111111111111111,
              "#46039f"
             ],
             [
              0.2222222222222222,
              "#7201a8"
             ],
             [
              0.3333333333333333,
              "#9c179e"
             ],
             [
              0.4444444444444444,
              "#bd3786"
             ],
             [
              0.5555555555555556,
              "#d8576b"
             ],
             [
              0.6666666666666666,
              "#ed7953"
             ],
             [
              0.7777777777777778,
              "#fb9f3a"
             ],
             [
              0.8888888888888888,
              "#fdca26"
             ],
             [
              1,
              "#f0f921"
             ]
            ],
            "type": "histogram2dcontour"
           }
          ],
          "mesh3d": [
           {
            "colorbar": {
             "outlinewidth": 0,
             "ticks": ""
            },
            "type": "mesh3d"
           }
          ],
          "parcoords": [
           {
            "line": {
             "colorbar": {
              "outlinewidth": 0,
              "ticks": ""
             }
            },
            "type": "parcoords"
           }
          ],
          "pie": [
           {
            "automargin": true,
            "type": "pie"
           }
          ],
          "scatter": [
           {
            "fillpattern": {
             "fillmode": "overlay",
             "size": 10,
             "solidity": 0.2
            },
            "type": "scatter"
           }
          ],
          "scatter3d": [
           {
            "line": {
             "colorbar": {
              "outlinewidth": 0,
              "ticks": ""
             }
            },
            "marker": {
             "colorbar": {
              "outlinewidth": 0,
              "ticks": ""
             }
            },
            "type": "scatter3d"
           }
          ],
          "scattercarpet": [
           {
            "marker": {
             "colorbar": {
              "outlinewidth": 0,
              "ticks": ""
             }
            },
            "type": "scattercarpet"
           }
          ],
          "scattergeo": [
           {
            "marker": {
             "colorbar": {
              "outlinewidth": 0,
              "ticks": ""
             }
            },
            "type": "scattergeo"
           }
          ],
          "scattergl": [
           {
            "marker": {
             "colorbar": {
              "outlinewidth": 0,
              "ticks": ""
             }
            },
            "type": "scattergl"
           }
          ],
          "scattermapbox": [
           {
            "marker": {
             "colorbar": {
              "outlinewidth": 0,
              "ticks": ""
             }
            },
            "type": "scattermapbox"
           }
          ],
          "scatterpolar": [
           {
            "marker": {
             "colorbar": {
              "outlinewidth": 0,
              "ticks": ""
             }
            },
            "type": "scatterpolar"
           }
          ],
          "scatterpolargl": [
           {
            "marker": {
             "colorbar": {
              "outlinewidth": 0,
              "ticks": ""
             }
            },
            "type": "scatterpolargl"
           }
          ],
          "scatterternary": [
           {
            "marker": {
             "colorbar": {
              "outlinewidth": 0,
              "ticks": ""
             }
            },
            "type": "scatterternary"
           }
          ],
          "surface": [
           {
            "colorbar": {
             "outlinewidth": 0,
             "ticks": ""
            },
            "colorscale": [
             [
              0,
              "#0d0887"
             ],
             [
              0.1111111111111111,
              "#46039f"
             ],
             [
              0.2222222222222222,
              "#7201a8"
             ],
             [
              0.3333333333333333,
              "#9c179e"
             ],
             [
              0.4444444444444444,
              "#bd3786"
             ],
             [
              0.5555555555555556,
              "#d8576b"
             ],
             [
              0.6666666666666666,
              "#ed7953"
             ],
             [
              0.7777777777777778,
              "#fb9f3a"
             ],
             [
              0.8888888888888888,
              "#fdca26"
             ],
             [
              1,
              "#f0f921"
             ]
            ],
            "type": "surface"
           }
          ],
          "table": [
           {
            "cells": {
             "fill": {
              "color": "#EBF0F8"
             },
             "line": {
              "color": "white"
             }
            },
            "header": {
             "fill": {
              "color": "#C8D4E3"
             },
             "line": {
              "color": "white"
             }
            },
            "type": "table"
           }
          ]
         },
         "layout": {
          "annotationdefaults": {
           "arrowcolor": "#2a3f5f",
           "arrowhead": 0,
           "arrowwidth": 1
          },
          "autotypenumbers": "strict",
          "coloraxis": {
           "colorbar": {
            "outlinewidth": 0,
            "ticks": ""
           }
          },
          "colorscale": {
           "diverging": [
            [
             0,
             "#8e0152"
            ],
            [
             0.1,
             "#c51b7d"
            ],
            [
             0.2,
             "#de77ae"
            ],
            [
             0.3,
             "#f1b6da"
            ],
            [
             0.4,
             "#fde0ef"
            ],
            [
             0.5,
             "#f7f7f7"
            ],
            [
             0.6,
             "#e6f5d0"
            ],
            [
             0.7,
             "#b8e186"
            ],
            [
             0.8,
             "#7fbc41"
            ],
            [
             0.9,
             "#4d9221"
            ],
            [
             1,
             "#276419"
            ]
           ],
           "sequential": [
            [
             0,
             "#0d0887"
            ],
            [
             0.1111111111111111,
             "#46039f"
            ],
            [
             0.2222222222222222,
             "#7201a8"
            ],
            [
             0.3333333333333333,
             "#9c179e"
            ],
            [
             0.4444444444444444,
             "#bd3786"
            ],
            [
             0.5555555555555556,
             "#d8576b"
            ],
            [
             0.6666666666666666,
             "#ed7953"
            ],
            [
             0.7777777777777778,
             "#fb9f3a"
            ],
            [
             0.8888888888888888,
             "#fdca26"
            ],
            [
             1,
             "#f0f921"
            ]
           ],
           "sequentialminus": [
            [
             0,
             "#0d0887"
            ],
            [
             0.1111111111111111,
             "#46039f"
            ],
            [
             0.2222222222222222,
             "#7201a8"
            ],
            [
             0.3333333333333333,
             "#9c179e"
            ],
            [
             0.4444444444444444,
             "#bd3786"
            ],
            [
             0.5555555555555556,
             "#d8576b"
            ],
            [
             0.6666666666666666,
             "#ed7953"
            ],
            [
             0.7777777777777778,
             "#fb9f3a"
            ],
            [
             0.8888888888888888,
             "#fdca26"
            ],
            [
             1,
             "#f0f921"
            ]
           ]
          },
          "colorway": [
           "#636efa",
           "#EF553B",
           "#00cc96",
           "#ab63fa",
           "#FFA15A",
           "#19d3f3",
           "#FF6692",
           "#B6E880",
           "#FF97FF",
           "#FECB52"
          ],
          "font": {
           "color": "#2a3f5f"
          },
          "geo": {
           "bgcolor": "white",
           "lakecolor": "white",
           "landcolor": "white",
           "showlakes": true,
           "showland": true,
           "subunitcolor": "#C8D4E3"
          },
          "hoverlabel": {
           "align": "left"
          },
          "hovermode": "closest",
          "mapbox": {
           "style": "light"
          },
          "paper_bgcolor": "white",
          "plot_bgcolor": "white",
          "polar": {
           "angularaxis": {
            "gridcolor": "#EBF0F8",
            "linecolor": "#EBF0F8",
            "ticks": ""
           },
           "bgcolor": "white",
           "radialaxis": {
            "gridcolor": "#EBF0F8",
            "linecolor": "#EBF0F8",
            "ticks": ""
           }
          },
          "scene": {
           "xaxis": {
            "backgroundcolor": "white",
            "gridcolor": "#DFE8F3",
            "gridwidth": 2,
            "linecolor": "#EBF0F8",
            "showbackground": true,
            "ticks": "",
            "zerolinecolor": "#EBF0F8"
           },
           "yaxis": {
            "backgroundcolor": "white",
            "gridcolor": "#DFE8F3",
            "gridwidth": 2,
            "linecolor": "#EBF0F8",
            "showbackground": true,
            "ticks": "",
            "zerolinecolor": "#EBF0F8"
           },
           "zaxis": {
            "backgroundcolor": "white",
            "gridcolor": "#DFE8F3",
            "gridwidth": 2,
            "linecolor": "#EBF0F8",
            "showbackground": true,
            "ticks": "",
            "zerolinecolor": "#EBF0F8"
           }
          },
          "shapedefaults": {
           "line": {
            "color": "#2a3f5f"
           }
          },
          "ternary": {
           "aaxis": {
            "gridcolor": "#DFE8F3",
            "linecolor": "#A2B1C6",
            "ticks": ""
           },
           "baxis": {
            "gridcolor": "#DFE8F3",
            "linecolor": "#A2B1C6",
            "ticks": ""
           },
           "bgcolor": "white",
           "caxis": {
            "gridcolor": "#DFE8F3",
            "linecolor": "#A2B1C6",
            "ticks": ""
           }
          },
          "title": {
           "x": 0.05
          },
          "xaxis": {
           "automargin": true,
           "gridcolor": "#EBF0F8",
           "linecolor": "#EBF0F8",
           "ticks": "",
           "title": {
            "standoff": 15
           },
           "zerolinecolor": "#EBF0F8",
           "zerolinewidth": 2
          },
          "yaxis": {
           "automargin": true,
           "gridcolor": "#EBF0F8",
           "linecolor": "#EBF0F8",
           "ticks": "",
           "title": {
            "standoff": 15
           },
           "zerolinecolor": "#EBF0F8",
           "zerolinewidth": 2
          }
         }
        },
        "title": {
         "text": "Average Distance by Day of the Week and Hour of the Day"
        },
        "xaxis": {
         "anchor": "y",
         "autorange": true,
         "constrain": "domain",
         "domain": [
          0,
          1
         ],
         "range": [
          -0.5,
          23.5
         ],
         "scaleanchor": "y",
         "title": {
          "text": "Hour of the Day"
         },
         "type": "linear"
        },
        "yaxis": {
         "anchor": "x",
         "autorange": true,
         "constrain": "domain",
         "domain": [
          0,
          1
         ],
         "range": [
          6.5,
          -0.5
         ],
         "title": {
          "text": "Day of the Week"
         },
         "type": "category"
        }
       }
      },
      "image/png": "[encoded data removed]",
      "text/html": [
       "<div>                            <div id=\"0b96a18d-e8f6-460c-b981-6726edbebd10\" class=\"plotly-graph-div\" style=\"height:525px; width:100%;\"></div>            <script type=\"text/javascript\">                require([\"plotly\"], function(Plotly) {                    window.PLOTLYENV=window.PLOTLYENV || {};                                    if (document.getElementById(\"0b96a18d-e8f6-460c-b981-6726edbebd10\")) {                    Plotly.newPlot(                        \"0b96a18d-e8f6-460c-b981-6726edbebd10\",                        [{\"coloraxis\":\"coloraxis\",\"name\":\"0\",\"x\":[0,1,2,3,4,5,6,7,8,9,10,11,12,13,14,15,16,17,18,19,20,21,22,23],\"y\":[\"\\uae08\",\"\\ubaa9\",\"\\uc218\",\"\\uc6d4\",\"\\uc77c\",\"\\ud1a0\",\"\\ud654\"],\"z\":[[0.03941914483917277,0.041799452835402005,0.02747939721328583,0.04467300794711169,0.06040430813029304,0.07023081911325425,0.038559495853808044,0.036675286599085095,0.032616090198524406,0.022036573919088698,0.0390431164668389,0.030196453798128214,0.02723147055623086,0.03293566054375842,0.043647154028390374,0.03415901588979847,0.03676054346801498,0.03317075478918968,0.027736605265520214,0.0327639608191616,0.03269130293295594,0.03259886897954823,0.03289081100831811,0.0341054864926265],[0.04370735751553739,0.0417765374180669,0.046409338050018074,0.05493347173018719,0.061569806741913605,0.046512677925574106,0.05250827412143831,0.03531027339163442,0.029133885897888828,0.029901509572592543,0.027772390194162014,0.02858396613665924,0.02919986838270981,0.0317612270262194,0.03471946142251515,0.03516035201971669,0.032241751574696526,0.028428726680918188,0.030790591800766605,0.0276523888329859,0.03442330713780692,0.0468108838653546,0.03680314709375805,0.04528582049448872],[0.06189425076297976,0.039073634201646286,0.04027817512479525,0.045001889217295234,0.02712641035763739,0.04090444437849963,0.03554282147884122,0.026562429760155624,0.028137832185748304,0.028848291392458557,0.03436772147280834,0.028384887815572114,0.029861333110209855,0.03094931538110388,0.04105512493816869,0.030896039734749265,0.0383327715434659,0.0440284327758578,0.034202250485253306,0.033418178249557354,0.037728969952857336,0.04105665766647581,0.03501931863015318,0.04053196598643651],[0.03715809838079698,0.05200302769060466,0.03454166059277303,0.05596315189409232,0.07063039696986095,0.06426270786989556,0.034490535452775584,0.032737782045627016,0.03271897536089555,0.022300252808707045,0.036457711731007814,0.03259913640889305,0.03791273701584093,0.031148218766055,0.03073260549089396,0.03561671744114983,0.045856793688758724,0.03489709547473452,0.03206766072125966,0.030931047636591467,0.03478322182868066,0.03504153532967092,0.039807563106260796,0.041753717014843476],[0.039962176173149275,0.0384030605806378,0.03932604021053794,0.037395030232690134,0.03617073372297567,0.0819519990101009,0.08455383063086612,0.07728771678955991,0.040662783558606266,0.02651724954324167,0.024978445983095104,0.035339142705562855,0.04011498662915437,0.03072317013788322,0.039420942718037456,0.041070572515632585,0.041828181994856564,0.04344609099751088,0.031280398092728846,0.033589561605802655,0.042991760551657536,0.04127852982142265,0.03989386796977483,0.04541865114558133],[0.036707167535579545,0.03566950941170107,0.0380489921489175,0.03696210181836352,0.04587911863822203,0.04823124935776199,0.04423147111534784,0.03502778652413812,0.05684438361280244,0.02883829437172897,0.03135331752009965,0.029968986432524772,0.030354061779279694,0.02574892204102297,0.03185745950220361,0.03626576223452341,0.031655929237335456,0.03446797731080265,0.03424314095287038,0.026601148073475155,0.029834599637768515,0.028572862569402776,0.034023159026747324,0.03508011042417724],[0.04549263088199272,0.026491866724439015,0.05237136448088479,0.042291832373646004,0.03189731490250098,0.052113797374228325,0.03625948497196739,0.036995698246546305,0.026760267886113808,0.027077751296383516,0.026826090075304745,0.034316439823832576,0.03498805312265091,0.035544501630472854,0.03838823500419107,0.02821292607678347,0.03586750914515103,0.03883433324239985,0.02572514272219912,0.033088420498453834,0.036793867026316575,0.03320750581322103,0.03796506613207811,0.0441184974197329]],\"type\":\"heatmap\",\"xaxis\":\"x\",\"yaxis\":\"y\",\"hovertemplate\":\"pickup_hour: %{x}\\u003cbr\\u003edayofweek_kr: %{y}\\u003cbr\\u003eAverage Distance: %{z}\\u003cextra\\u003e\\u003c\\u002fextra\\u003e\"}],                        {\"template\":{\"data\":{\"histogram2dcontour\":[{\"type\":\"histogram2dcontour\",\"colorbar\":{\"outlinewidth\":0,\"ticks\":\"\"},\"colorscale\":[[0.0,\"#0d0887\"],[0.1111111111111111,\"#46039f\"],[0.2222222222222222,\"#7201a8\"],[0.3333333333333333,\"#9c179e\"],[0.4444444444444444,\"#bd3786\"],[0.5555555555555556,\"#d8576b\"],[0.6666666666666666,\"#ed7953\"],[0.7777777777777778,\"#fb9f3a\"],[0.8888888888888888,\"#fdca26\"],[1.0,\"#f0f921\"]]}],\"choropleth\":[{\"type\":\"choropleth\",\"colorbar\":{\"outlinewidth\":0,\"ticks\":\"\"}}],\"histogram2d\":[{\"type\":\"histogram2d\",\"colorbar\":{\"outlinewidth\":0,\"ticks\":\"\"},\"colorscale\":[[0.0,\"#0d0887\"],[0.1111111111111111,\"#46039f\"],[0.2222222222222222,\"#7201a8\"],[0.3333333333333333,\"#9c179e\"],[0.4444444444444444,\"#bd3786\"],[0.5555555555555556,\"#d8576b\"],[0.6666666666666666,\"#ed7953\"],[0.7777777777777778,\"#fb9f3a\"],[0.8888888888888888,\"#fdca26\"],[1.0,\"#f0f921\"]]}],\"heatmap\":[{\"type\":\"heatmap\",\"colorbar\":{\"outlinewidth\":0,\"ticks\":\"\"},\"colorscale\":[[0.0,\"#0d0887\"],[0.1111111111111111,\"#46039f\"],[0.2222222222222222,\"#7201a8\"],[0.3333333333333333,\"#9c179e\"],[0.4444444444444444,\"#bd3786\"],[0.5555555555555556,\"#d8576b\"],[0.6666666666666666,\"#ed7953\"],[0.7777777777777778,\"#fb9f3a\"],[0.8888888888888888,\"#fdca26\"],[1.0,\"#f0f921\"]]}],\"heatmapgl\":[{\"type\":\"heatmapgl\",\"colorbar\":{\"outlinewidth\":0,\"ticks\":\"\"},\"colorscale\":[[0.0,\"#0d0887\"],[0.1111111111111111,\"#46039f\"],[0.2222222222222222,\"#7201a8\"],[0.3333333333333333,\"#9c179e\"],[0.4444444444444444,\"#bd3786\"],[0.5555555555555556,\"#d8576b\"],[0.6666666666666666,\"#ed7953\"],[0.7777777777777778,\"#fb9f3a\"],[0.8888888888888888,\"#fdca26\"],[1.0,\"#f0f921\"]]}],\"contourcarpet\":[{\"type\":\"contourcarpet\",\"colorbar\":{\"outlinewidth\":0,\"ticks\":\"\"}}],\"contour\":[{\"type\":\"contour\",\"colorbar\":{\"outlinewidth\":0,\"ticks\":\"\"},\"colorscale\":[[0.0,\"#0d0887\"],[0.1111111111111111,\"#46039f\"],[0.2222222222222222,\"#7201a8\"],[0.3333333333333333,\"#9c179e\"],[0.4444444444444444,\"#bd3786\"],[0.5555555555555556,\"#d8576b\"],[0.6666666666666666,\"#ed7953\"],[0.7777777777777778,\"#fb9f3a\"],[0.8888888888888888,\"#fdca26\"],[1.0,\"#f0f921\"]]}],\"surface\":[{\"type\":\"surface\",\"colorbar\":{\"outlinewidth\":0,\"ticks\":\"\"},\"colorscale\":[[0.0,\"#0d0887\"],[0.1111111111111111,\"#46039f\"],[0.2222222222222222,\"#7201a8\"],[0.3333333333333333,\"#9c179e\"],[0.4444444444444444,\"#bd3786\"],[0.5555555555555556,\"#d8576b\"],[0.6666666666666666,\"#ed7953\"],[0.7777777777777778,\"#fb9f3a\"],[0.8888888888888888,\"#fdca26\"],[1.0,\"#f0f921\"]]}],\"mesh3d\":[{\"type\":\"mesh3d\",\"colorbar\":{\"outlinewidth\":0,\"ticks\":\"\"}}],\"scatter\":[{\"fillpattern\":{\"fillmode\":\"overlay\",\"size\":10,\"solidity\":0.2},\"type\":\"scatter\"}],\"parcoords\":[{\"type\":\"parcoords\",\"line\":{\"colorbar\":{\"outlinewidth\":0,\"ticks\":\"\"}}}],\"scatterpolargl\":[{\"type\":\"scatterpolargl\",\"marker\":{\"colorbar\":{\"outlinewidth\":0,\"ticks\":\"\"}}}],\"bar\":[{\"error_x\":{\"color\":\"#2a3f5f\"},\"error_y\":{\"color\":\"#2a3f5f\"},\"marker\":{\"line\":{\"color\":\"white\",\"width\":0.5},\"pattern\":{\"fillmode\":\"overlay\",\"size\":10,\"solidity\":0.2}},\"type\":\"bar\"}],\"scattergeo\":[{\"type\":\"scattergeo\",\"marker\":{\"colorbar\":{\"outlinewidth\":0,\"ticks\":\"\"}}}],\"scatterpolar\":[{\"type\":\"scatterpolar\",\"marker\":{\"colorbar\":{\"outlinewidth\":0,\"ticks\":\"\"}}}],\"histogram\":[{\"marker\":{\"pattern\":{\"fillmode\":\"overlay\",\"size\":10,\"solidity\":0.2}},\"type\":\"histogram\"}],\"scattergl\":[{\"type\":\"scattergl\",\"marker\":{\"colorbar\":{\"outlinewidth\":0,\"ticks\":\"\"}}}],\"scatter3d\":[{\"type\":\"scatter3d\",\"line\":{\"colorbar\":{\"outlinewidth\":0,\"ticks\":\"\"}},\"marker\":{\"colorbar\":{\"outlinewidth\":0,\"ticks\":\"\"}}}],\"scattermapbox\":[{\"type\":\"scattermapbox\",\"marker\":{\"colorbar\":{\"outlinewidth\":0,\"ticks\":\"\"}}}],\"scatterternary\":[{\"type\":\"scatterternary\",\"marker\":{\"colorbar\":{\"outlinewidth\":0,\"ticks\":\"\"}}}],\"scattercarpet\":[{\"type\":\"scattercarpet\",\"marker\":{\"colorbar\":{\"outlinewidth\":0,\"ticks\":\"\"}}}],\"carpet\":[{\"aaxis\":{\"endlinecolor\":\"#2a3f5f\",\"gridcolor\":\"#C8D4E3\",\"linecolor\":\"#C8D4E3\",\"minorgridcolor\":\"#C8D4E3\",\"startlinecolor\":\"#2a3f5f\"},\"baxis\":{\"endlinecolor\":\"#2a3f5f\",\"gridcolor\":\"#C8D4E3\",\"linecolor\":\"#C8D4E3\",\"minorgridcolor\":\"#C8D4E3\",\"startlinecolor\":\"#2a3f5f\"},\"type\":\"carpet\"}],\"table\":[{\"cells\":{\"fill\":{\"color\":\"#EBF0F8\"},\"line\":{\"color\":\"white\"}},\"header\":{\"fill\":{\"color\":\"#C8D4E3\"},\"line\":{\"color\":\"white\"}},\"type\":\"table\"}],\"barpolar\":[{\"marker\":{\"line\":{\"color\":\"white\",\"width\":0.5},\"pattern\":{\"fillmode\":\"overlay\",\"size\":10,\"solidity\":0.2}},\"type\":\"barpolar\"}],\"pie\":[{\"automargin\":true,\"type\":\"pie\"}]},\"layout\":{\"autotypenumbers\":\"strict\",\"colorway\":[\"#636efa\",\"#EF553B\",\"#00cc96\",\"#ab63fa\",\"#FFA15A\",\"#19d3f3\",\"#FF6692\",\"#B6E880\",\"#FF97FF\",\"#FECB52\"],\"font\":{\"color\":\"#2a3f5f\"},\"hovermode\":\"closest\",\"hoverlabel\":{\"align\":\"left\"},\"paper_bgcolor\":\"white\",\"plot_bgcolor\":\"white\",\"polar\":{\"bgcolor\":\"white\",\"angularaxis\":{\"gridcolor\":\"#EBF0F8\",\"linecolor\":\"#EBF0F8\",\"ticks\":\"\"},\"radialaxis\":{\"gridcolor\":\"#EBF0F8\",\"linecolor\":\"#EBF0F8\",\"ticks\":\"\"}},\"ternary\":{\"bgcolor\":\"white\",\"aaxis\":{\"gridcolor\":\"#DFE8F3\",\"linecolor\":\"#A2B1C6\",\"ticks\":\"\"},\"baxis\":{\"gridcolor\":\"#DFE8F3\",\"linecolor\":\"#A2B1C6\",\"ticks\":\"\"},\"caxis\":{\"gridcolor\":\"#DFE8F3\",\"linecolor\":\"#A2B1C6\",\"ticks\":\"\"}},\"coloraxis\":{\"colorbar\":{\"outlinewidth\":0,\"ticks\":\"\"}},\"colorscale\":{\"sequential\":[[0.0,\"#0d0887\"],[0.1111111111111111,\"#46039f\"],[0.2222222222222222,\"#7201a8\"],[0.3333333333333333,\"#9c179e\"],[0.4444444444444444,\"#bd3786\"],[0.5555555555555556,\"#d8576b\"],[0.6666666666666666,\"#ed7953\"],[0.7777777777777778,\"#fb9f3a\"],[0.8888888888888888,\"#fdca26\"],[1.0,\"#f0f921\"]],\"sequentialminus\":[[0.0,\"#0d0887\"],[0.1111111111111111,\"#46039f\"],[0.2222222222222222,\"#7201a8\"],[0.3333333333333333,\"#9c179e\"],[0.4444444444444444,\"#bd3786\"],[0.5555555555555556,\"#d8576b\"],[0.6666666666666666,\"#ed7953\"],[0.7777777777777778,\"#fb9f3a\"],[0.8888888888888888,\"#fdca26\"],[1.0,\"#f0f921\"]],\"diverging\":[[0,\"#8e0152\"],[0.1,\"#c51b7d\"],[0.2,\"#de77ae\"],[0.3,\"#f1b6da\"],[0.4,\"#fde0ef\"],[0.5,\"#f7f7f7\"],[0.6,\"#e6f5d0\"],[0.7,\"#b8e186\"],[0.8,\"#7fbc41\"],[0.9,\"#4d9221\"],[1,\"#276419\"]]},\"xaxis\":{\"gridcolor\":\"#EBF0F8\",\"linecolor\":\"#EBF0F8\",\"ticks\":\"\",\"title\":{\"standoff\":15},\"zerolinecolor\":\"#EBF0F8\",\"automargin\":true,\"zerolinewidth\":2},\"yaxis\":{\"gridcolor\":\"#EBF0F8\",\"linecolor\":\"#EBF0F8\",\"ticks\":\"\",\"title\":{\"standoff\":15},\"zerolinecolor\":\"#EBF0F8\",\"automargin\":true,\"zerolinewidth\":2},\"scene\":{\"xaxis\":{\"backgroundcolor\":\"white\",\"gridcolor\":\"#DFE8F3\",\"linecolor\":\"#EBF0F8\",\"showbackground\":true,\"ticks\":\"\",\"zerolinecolor\":\"#EBF0F8\",\"gridwidth\":2},\"yaxis\":{\"backgroundcolor\":\"white\",\"gridcolor\":\"#DFE8F3\",\"linecolor\":\"#EBF0F8\",\"showbackground\":true,\"ticks\":\"\",\"zerolinecolor\":\"#EBF0F8\",\"gridwidth\":2},\"zaxis\":{\"backgroundcolor\":\"white\",\"gridcolor\":\"#DFE8F3\",\"linecolor\":\"#EBF0F8\",\"showbackground\":true,\"ticks\":\"\",\"zerolinecolor\":\"#EBF0F8\",\"gridwidth\":2}},\"shapedefaults\":{\"line\":{\"color\":\"#2a3f5f\"}},\"annotationdefaults\":{\"arrowcolor\":\"#2a3f5f\",\"arrowhead\":0,\"arrowwidth\":1},\"geo\":{\"bgcolor\":\"white\",\"landcolor\":\"white\",\"subunitcolor\":\"#C8D4E3\",\"showland\":true,\"showlakes\":true,\"lakecolor\":\"white\"},\"title\":{\"x\":0.05},\"mapbox\":{\"style\":\"light\"}}},\"xaxis\":{\"anchor\":\"y\",\"domain\":[0.0,1.0],\"scaleanchor\":\"y\",\"constrain\":\"domain\",\"title\":{\"text\":\"Hour of the Day\"}},\"yaxis\":{\"anchor\":\"x\",\"domain\":[0.0,1.0],\"autorange\":\"reversed\",\"constrain\":\"domain\",\"title\":{\"text\":\"Day of the Week\"}},\"coloraxis\":{\"colorbar\":{\"title\":{\"text\":\"Average Distance\"}},\"colorscale\":[[0.0,\"#440154\"],[0.1111111111111111,\"#482878\"],[0.2222222222222222,\"#3e4989\"],[0.3333333333333333,\"#31688e\"],[0.4444444444444444,\"#26828e\"],[0.5555555555555556,\"#1f9e89\"],[0.6666666666666666,\"#35b779\"],[0.7777777777777778,\"#6ece58\"],[0.8888888888888888,\"#b5de2b\"],[1.0,\"#fde725\"]]},\"margin\":{\"t\":60},\"title\":{\"text\":\"Average Distance by Day of the Week and Hour of the Day\"}},                        {\"responsive\": true}                    ).then(function(){\n",
       "                            \n",
       "var gd = document.getElementById('0b96a18d-e8f6-460c-b981-6726edbebd10');\n",
       "var x = new MutationObserver(function (mutations, observer) {{\n",
       "        var display = window.getComputedStyle(gd).display;\n",
       "        if (!display || display === 'none') {{\n",
       "            console.log([gd, 'removed!']);\n",
       "            Plotly.purge(gd);\n",
       "            observer.disconnect();\n",
       "        }}\n",
       "}});\n",
       "\n",
       "// Listen for the removal of the full notebook cells\n",
       "var notebookContainer = gd.closest('#notebook-container');\n",
       "if (notebookContainer) {{\n",
       "    x.observe(notebookContainer, {childList: true});\n",
       "}}\n",
       "\n",
       "// Listen for the clearing of the current output cell\n",
       "var outputEl = gd.closest('.output');\n",
       "if (outputEl) {{\n",
       "    x.observe(outputEl, {childList: true});\n",
       "}}\n",
       "\n",
       "                        })                };                });            </script>        </div>"
      ]
     },
     "metadata": {},
     "output_type": "display_data"
    }
   ],
   "source": [
    "pivot_table = df.pivot_table(values='dist', index='dayofweek_kr', columns='pickup_hour', aggfunc='mean')\n",
    "\n",
    "fig = px.imshow(pivot_table, labels=dict(color=\"Average Distance\"), x=pivot_table.columns, y=pivot_table.index,\n",
    "                color_continuous_scale='Viridis')\n",
    "\n",
    "fig.update_layout(\n",
    "    xaxis_title=\"Hour of the Day\",\n",
    "    yaxis_title=\"Day of the Week\",\n",
    "    title=\"Average Distance by Day of the Week and Hour of the Day\"\n",
    ")\n",
    "\n",
    "fig.show()"
   ]
  },
  {
   "cell_type": "markdown",
   "id": "fb19ae60-e926-4456-97b4-9317e27f56b5",
   "metadata": {},
   "source": [
    "## `(3)` 속력별 경로시각화 – 50점\n",
    "\n",
    "자료 `df_small`에서 속력을 quatile에 따라 4개의 구간으로 나누고, 구간별\n",
    "이동경로를 대시보드에 시각화하라.\n",
    "\n",
    "**README**\n",
    "\n",
    "-   Zoom = 11 로 설정할것. Figure의 width, height는 설정하지 말것\n",
    "-   기타 설정값에 대해서는 궁금한것이 있다면 질문할 것"
   ]
  },
  {
   "cell_type": "markdown",
   "id": "0acd1204-eb8f-441a-9d3a-294fa9876d5d",
   "metadata": {},
   "source": [
    "**힌트**:\n",
    "\n",
    "*힌트1*: 아래의 코드를 관찰하세요."
   ]
  },
  {
   "cell_type": "code",
   "execution_count": 29,
   "id": "665c1bcc-2a77-499c-bbc9-6740d4eaa606",
   "metadata": {},
   "outputs": [
    {
     "name": "stderr",
     "output_type": "stream",
     "text": [
      "/root/anaconda3/envs/dv2023/lib/python3.10/site-packages/plotly/express/_core.py:2044: FutureWarning:\n",
      "\n",
      "The default of observed=False is deprecated and will be changed to True in a future version of pandas. Pass observed=False to retain current behavior or observed=True to adopt the future default and silence this warning.\n",
      "\n"
     ]
    },
    {
     "data": {
      "application/vnd.plotly.v1+json": {
       "config": {
        "plotlyServerURL": "https://plot.ly"
       },
       "data": [
        {
         "hovertemplate": "Speed Quantile=조금빠름<br>pickup_latitude=%{lat}<br>pickup_longitude=%{lon}<extra></extra>",
         "lat": [
          40.76793670654297,
          40.764122009277344,
          40.862701416015625,
          40.7334213256836,
          40.7249755859375,
          40.79740524291992,
          40.81560134887695,
          40.75810241699219,
          40.752891540527344,
          40.761756896972656,
          40.789600372314446,
          40.770069122314446,
          40.74464797973633,
          40.72257232666016,
          40.77674865722656,
          40.78261184692384,
          40.75128173828125,
          40.80135726928711,
          40.72565841674805,
          40.755126953125,
          40.749908447265625,
          40.7640037536621,
          40.74989700317384,
          40.73410034179688,
          40.74057769775391,
          40.75857162475586,
          40.75567626953125,
          40.76673126220703,
          40.750431060791016,
          40.78201675415039,
          40.794429779052734,
          40.64473342895508,
          40.78641128540039,
          40.766788482666016,
          40.734493255615234,
          40.709976196289055
         ],
         "legendgroup": "조금빠름",
         "lon": [
          -73.98215484619139,
          -73.9558334350586,
          -73.90413665771484,
          -74.00246429443358,
          -73.9844207763672,
          -73.94892883300781,
          -73.93981170654298,
          -73.96311950683594,
          -73.97013854980467,
          -73.96741485595702,
          -73.97001647949219,
          -73.98792266845702,
          -73.99140930175781,
          -74.00359344482422,
          -73.95974731445312,
          -73.95343017578125,
          -73.93987274169923,
          -73.95948791503906,
          -73.99471282958984,
          -73.9874267578125,
          -73.9881591796875,
          -73.97434234619139,
          -73.99164581298828,
          -73.9994888305664,
          -73.97972869873048,
          -73.96356964111328,
          -73.96500396728516,
          -73.96306610107422,
          -73.98802947998048,
          -73.97631072998048,
          -73.97160339355469,
          -73.78192138671875,
          -73.95282745361328,
          -73.96295928955078,
          -74.00151824951173,
          -74.00458526611328
         ],
         "marker": {
          "color": "yellow",
          "opacity": 0.5
         },
         "mode": "markers",
         "name": "조금빠름",
         "showlegend": true,
         "subplot": "mapbox",
         "type": "scattermapbox"
        },
        {
         "hovertemplate": "Speed Quantile=매우빠름<br>pickup_latitude=%{lat}<br>pickup_longitude=%{lon}<extra></extra>",
         "lat": [
          40.73052978515625,
          40.75043869018555,
          40.64477157592773,
          40.79136657714844,
          40.72843170166016,
          40.80809020996094,
          40.76192474365234,
          40.74108123779297,
          40.643508911132805,
          40.75821304321289,
          40.76067352294922,
          40.755401611328125,
          40.738807678222656,
          40.784122467041016,
          40.74114227294922,
          40.77938079833984,
          40.64687347412109,
          40.70758056640625,
          40.78065872192384,
          40.737281799316406,
          40.82606887817384,
          40.767120361328125,
          40.75527572631836,
          40.80709838867188,
          40.768253326416016,
          40.64693832397461,
          40.64469146728516,
          40.773601531982415,
          40.756568908691406,
          40.645286560058594,
          40.768848419189446,
          40.76412582397461,
          40.78915786743164,
          40.75484848022461,
          40.75823974609375,
          40.743614196777344,
          40.71914291381836
         ],
         "legendgroup": "매우빠름",
         "lon": [
          -73.98052215576173,
          -73.99453735351561,
          -73.78182983398438,
          -73.97394561767578,
          -73.99981689453125,
          -73.9640121459961,
          -73.97914123535155,
          -74.00586700439453,
          -73.79021453857422,
          -73.98886108398438,
          -73.98724365234375,
          -73.96813201904298,
          -73.98301696777342,
          -73.9544906616211,
          -73.99011993408203,
          -73.94471740722656,
          -73.79014587402342,
          -74.00406646728516,
          -73.98385620117188,
          -74.00069427490233,
          -73.94337463378906,
          -73.9688720703125,
          -73.96514892578125,
          -73.95350646972656,
          -73.98240661621094,
          -73.78984832763672,
          -73.78196716308595,
          -73.87093353271484,
          -73.98641967773438,
          -73.7766876220703,
          -73.86279296875,
          -73.97107696533203,
          -73.94364166259764,
          -73.98343658447266,
          -73.98924255371094,
          -73.95078277587889,
          -74.00506591796875
         ],
         "marker": {
          "color": "red",
          "opacity": 0.5
         },
         "mode": "markers",
         "name": "매우빠름",
         "showlegend": true,
         "subplot": "mapbox",
         "type": "scattermapbox"
        },
        {
         "hovertemplate": "Speed Quantile=매우느림<br>pickup_latitude=%{lat}<br>pickup_longitude=%{lon}<extra></extra>",
         "lat": [
          40.7683982849121,
          40.74432373046875,
          40.72234725952149,
          40.78168487548828,
          40.739540100097656,
          40.72530364990234,
          40.72259521484375,
          40.794048309326165,
          40.757469177246094,
          40.74184036254882,
          40.73777770996094,
          40.74380493164063,
          40.7467155456543,
          40.75983047485352,
          40.76341247558594,
          40.79840850830078,
          40.763519287109375,
          40.75796890258789,
          40.76140594482422,
          40.75623321533203,
          40.77922821044922,
          40.776123046875,
          40.76290130615234,
          40.7393684387207,
          40.746826171875,
          40.77154159545898,
          40.744140625,
          40.70718383789063,
          40.74240493774414,
          40.7324447631836,
          40.78596115112305,
          40.73308181762695,
          40.76639175415039,
          40.773868560791016,
          40.74729537963867,
          40.72243118286133,
          40.78450012207031
         ],
         "legendgroup": "매우느림",
         "lon": [
          -73.9656524658203,
          -73.98423767089844,
          -73.99722290039062,
          -73.98113250732422,
          -73.98706817626953,
          -73.9925537109375,
          -74.00528717041014,
          -73.97196960449217,
          -73.96942901611328,
          -74.0008773803711,
          -73.99762725830078,
          -73.98795318603516,
          -73.98993682861328,
          -73.97090148925781,
          -73.98194122314453,
          -73.95243072509764,
          -73.96932220458984,
          -73.98609161376953,
          -73.97090911865233,
          -73.99331665039062,
          -73.95587921142578,
          -73.96235656738281,
          -73.98320770263672,
          -74.00737762451173,
          -73.99005889892578,
          -73.9818115234375,
          -73.97913360595702,
          -74.01651763916014,
          -74.00107574462889,
          -74.00647735595702,
          -73.97699737548828,
          -74.00662231445312,
          -73.96286010742188,
          -73.98236846923827,
          -73.98175048828125,
          -73.98615264892578,
          -73.95220947265625
         ],
         "marker": {
          "color": "blue",
          "opacity": 0.5
         },
         "mode": "markers",
         "name": "매우느림",
         "showlegend": true,
         "subplot": "mapbox",
         "type": "scattermapbox"
        },
        {
         "hovertemplate": "Speed Quantile=조금느림<br>pickup_latitude=%{lat}<br>pickup_longitude=%{lon}<extra></extra>",
         "lat": [
          40.75918960571289,
          40.74981689453125,
          40.77298355102539,
          40.7253303527832,
          40.76215744018555,
          40.72407150268555,
          40.763973236083984,
          40.76555252075195,
          40.76704025268555,
          40.76905059814453,
          40.74908065795898,
          40.7724494934082,
          40.7226448059082,
          40.75624084472656,
          40.73820495605469,
          40.730010986328125,
          40.71868896484375,
          40.74298095703125,
          40.73553085327149,
          40.75054931640625,
          40.744510650634766,
          40.742500305175774,
          40.7714958190918,
          40.760250091552734,
          40.74156188964844,
          40.759124755859375,
          40.76424789428711,
          40.74530792236328,
          40.75419235229492,
          40.76359939575195,
          40.74673461914063,
          40.73915481567384,
          40.75053024291992,
          40.777053833007805,
          40.74143600463867,
          40.78707885742188
         ],
         "legendgroup": "조금느림",
         "lon": [
          -73.98509216308595,
          -73.99140167236328,
          -73.9782943725586,
          -73.99237060546875,
          -73.98597717285155,
          -74.00241088867188,
          -73.99028778076173,
          -73.96790313720702,
          -73.95381164550781,
          -73.98491668701173,
          -74.00839233398438,
          -73.96265411376953,
          -73.98736572265625,
          -73.97042846679686,
          -73.98540496826173,
          -73.9792709350586,
          -74.0053482055664,
          -73.98845672607422,
          -73.98988342285155,
          -73.97480010986328,
          -73.98111724853516,
          -73.97420501708984,
          -73.95969390869139,
          -73.96861267089844,
          -73.993896484375,
          -73.97645568847656,
          -73.95646667480467,
          -74.00784301757811,
          -73.97592163085938,
          -73.98738861083984,
          -73.97140502929686,
          -73.99610137939453,
          -73.98738098144531,
          -73.98257446289062,
          -73.95230865478516,
          -73.95390319824217
         ],
         "marker": {
          "color": "green",
          "opacity": 0.5
         },
         "mode": "markers",
         "name": "조금느림",
         "showlegend": true,
         "subplot": "mapbox",
         "type": "scattermapbox"
        }
       ],
       "layout": {
        "autosize": true,
        "legend": {
         "title": {
          "text": "Speed Quantile"
         },
         "tracegroupgap": 0
        },
        "mapbox": {
         "bearing": 0,
         "center": {
          "lat": 40.74490353365641,
          "lon": -73.93862358293768
         },
         "domain": {
          "x": [
           0,
           1
          ],
          "y": [
           0,
           1
          ]
         },
         "pitch": 0,
         "style": "carto-positron",
         "zoom": 9.596706968249993
        },
        "showlegend": true,
        "template": {
         "data": {
          "bar": [
           {
            "error_x": {
             "color": "#2a3f5f"
            },
            "error_y": {
             "color": "#2a3f5f"
            },
            "marker": {
             "line": {
              "color": "white",
              "width": 0.5
             },
             "pattern": {
              "fillmode": "overlay",
              "size": 10,
              "solidity": 0.2
             }
            },
            "type": "bar"
           }
          ],
          "barpolar": [
           {
            "marker": {
             "line": {
              "color": "white",
              "width": 0.5
             },
             "pattern": {
              "fillmode": "overlay",
              "size": 10,
              "solidity": 0.2
             }
            },
            "type": "barpolar"
           }
          ],
          "carpet": [
           {
            "aaxis": {
             "endlinecolor": "#2a3f5f",
             "gridcolor": "#C8D4E3",
             "linecolor": "#C8D4E3",
             "minorgridcolor": "#C8D4E3",
             "startlinecolor": "#2a3f5f"
            },
            "baxis": {
             "endlinecolor": "#2a3f5f",
             "gridcolor": "#C8D4E3",
             "linecolor": "#C8D4E3",
             "minorgridcolor": "#C8D4E3",
             "startlinecolor": "#2a3f5f"
            },
            "type": "carpet"
           }
          ],
          "choropleth": [
           {
            "colorbar": {
             "outlinewidth": 0,
             "ticks": ""
            },
            "type": "choropleth"
           }
          ],
          "contour": [
           {
            "colorbar": {
             "outlinewidth": 0,
             "ticks": ""
            },
            "colorscale": [
             [
              0,
              "#0d0887"
             ],
             [
              0.1111111111111111,
              "#46039f"
             ],
             [
              0.2222222222222222,
              "#7201a8"
             ],
             [
              0.3333333333333333,
              "#9c179e"
             ],
             [
              0.4444444444444444,
              "#bd3786"
             ],
             [
              0.5555555555555556,
              "#d8576b"
             ],
             [
              0.6666666666666666,
              "#ed7953"
             ],
             [
              0.7777777777777778,
              "#fb9f3a"
             ],
             [
              0.8888888888888888,
              "#fdca26"
             ],
             [
              1,
              "#f0f921"
             ]
            ],
            "type": "contour"
           }
          ],
          "contourcarpet": [
           {
            "colorbar": {
             "outlinewidth": 0,
             "ticks": ""
            },
            "type": "contourcarpet"
           }
          ],
          "heatmap": [
           {
            "colorbar": {
             "outlinewidth": 0,
             "ticks": ""
            },
            "colorscale": [
             [
              0,
              "#0d0887"
             ],
             [
              0.1111111111111111,
              "#46039f"
             ],
             [
              0.2222222222222222,
              "#7201a8"
             ],
             [
              0.3333333333333333,
              "#9c179e"
             ],
             [
              0.4444444444444444,
              "#bd3786"
             ],
             [
              0.5555555555555556,
              "#d8576b"
             ],
             [
              0.6666666666666666,
              "#ed7953"
             ],
             [
              0.7777777777777778,
              "#fb9f3a"
             ],
             [
              0.8888888888888888,
              "#fdca26"
             ],
             [
              1,
              "#f0f921"
             ]
            ],
            "type": "heatmap"
           }
          ],
          "heatmapgl": [
           {
            "colorbar": {
             "outlinewidth": 0,
             "ticks": ""
            },
            "colorscale": [
             [
              0,
              "#0d0887"
             ],
             [
              0.1111111111111111,
              "#46039f"
             ],
             [
              0.2222222222222222,
              "#7201a8"
             ],
             [
              0.3333333333333333,
              "#9c179e"
             ],
             [
              0.4444444444444444,
              "#bd3786"
             ],
             [
              0.5555555555555556,
              "#d8576b"
             ],
             [
              0.6666666666666666,
              "#ed7953"
             ],
             [
              0.7777777777777778,
              "#fb9f3a"
             ],
             [
              0.8888888888888888,
              "#fdca26"
             ],
             [
              1,
              "#f0f921"
             ]
            ],
            "type": "heatmapgl"
           }
          ],
          "histogram": [
           {
            "marker": {
             "pattern": {
              "fillmode": "overlay",
              "size": 10,
              "solidity": 0.2
             }
            },
            "type": "histogram"
           }
          ],
          "histogram2d": [
           {
            "colorbar": {
             "outlinewidth": 0,
             "ticks": ""
            },
            "colorscale": [
             [
              0,
              "#0d0887"
             ],
             [
              0.1111111111111111,
              "#46039f"
             ],
             [
              0.2222222222222222,
              "#7201a8"
             ],
             [
              0.3333333333333333,
              "#9c179e"
             ],
             [
              0.4444444444444444,
              "#bd3786"
             ],
             [
              0.5555555555555556,
              "#d8576b"
             ],
             [
              0.6666666666666666,
              "#ed7953"
             ],
             [
              0.7777777777777778,
              "#fb9f3a"
             ],
             [
              0.8888888888888888,
              "#fdca26"
             ],
             [
              1,
              "#f0f921"
             ]
            ],
            "type": "histogram2d"
           }
          ],
          "histogram2dcontour": [
           {
            "colorbar": {
             "outlinewidth": 0,
             "ticks": ""
            },
            "colorscale": [
             [
              0,
              "#0d0887"
             ],
             [
              0.1111111111111111,
              "#46039f"
             ],
             [
              0.2222222222222222,
              "#7201a8"
             ],
             [
              0.3333333333333333,
              "#9c179e"
             ],
             [
              0.4444444444444444,
              "#bd3786"
             ],
             [
              0.5555555555555556,
              "#d8576b"
             ],
             [
              0.6666666666666666,
              "#ed7953"
             ],
             [
              0.7777777777777778,
              "#fb9f3a"
             ],
             [
              0.8888888888888888,
              "#fdca26"
             ],
             [
              1,
              "#f0f921"
             ]
            ],
            "type": "histogram2dcontour"
           }
          ],
          "mesh3d": [
           {
            "colorbar": {
             "outlinewidth": 0,
             "ticks": ""
            },
            "type": "mesh3d"
           }
          ],
          "parcoords": [
           {
            "line": {
             "colorbar": {
              "outlinewidth": 0,
              "ticks": ""
             }
            },
            "type": "parcoords"
           }
          ],
          "pie": [
           {
            "automargin": true,
            "type": "pie"
           }
          ],
          "scatter": [
           {
            "fillpattern": {
             "fillmode": "overlay",
             "size": 10,
             "solidity": 0.2
            },
            "type": "scatter"
           }
          ],
          "scatter3d": [
           {
            "line": {
             "colorbar": {
              "outlinewidth": 0,
              "ticks": ""
             }
            },
            "marker": {
             "colorbar": {
              "outlinewidth": 0,
              "ticks": ""
             }
            },
            "type": "scatter3d"
           }
          ],
          "scattercarpet": [
           {
            "marker": {
             "colorbar": {
              "outlinewidth": 0,
              "ticks": ""
             }
            },
            "type": "scattercarpet"
           }
          ],
          "scattergeo": [
           {
            "marker": {
             "colorbar": {
              "outlinewidth": 0,
              "ticks": ""
             }
            },
            "type": "scattergeo"
           }
          ],
          "scattergl": [
           {
            "marker": {
             "colorbar": {
              "outlinewidth": 0,
              "ticks": ""
             }
            },
            "type": "scattergl"
           }
          ],
          "scattermapbox": [
           {
            "marker": {
             "colorbar": {
              "outlinewidth": 0,
              "ticks": ""
             }
            },
            "type": "scattermapbox"
           }
          ],
          "scatterpolar": [
           {
            "marker": {
             "colorbar": {
              "outlinewidth": 0,
              "ticks": ""
             }
            },
            "type": "scatterpolar"
           }
          ],
          "scatterpolargl": [
           {
            "marker": {
             "colorbar": {
              "outlinewidth": 0,
              "ticks": ""
             }
            },
            "type": "scatterpolargl"
           }
          ],
          "scatterternary": [
           {
            "marker": {
             "colorbar": {
              "outlinewidth": 0,
              "ticks": ""
             }
            },
            "type": "scatterternary"
           }
          ],
          "surface": [
           {
            "colorbar": {
             "outlinewidth": 0,
             "ticks": ""
            },
            "colorscale": [
             [
              0,
              "#0d0887"
             ],
             [
              0.1111111111111111,
              "#46039f"
             ],
             [
              0.2222222222222222,
              "#7201a8"
             ],
             [
              0.3333333333333333,
              "#9c179e"
             ],
             [
              0.4444444444444444,
              "#bd3786"
             ],
             [
              0.5555555555555556,
              "#d8576b"
             ],
             [
              0.6666666666666666,
              "#ed7953"
             ],
             [
              0.7777777777777778,
              "#fb9f3a"
             ],
             [
              0.8888888888888888,
              "#fdca26"
             ],
             [
              1,
              "#f0f921"
             ]
            ],
            "type": "surface"
           }
          ],
          "table": [
           {
            "cells": {
             "fill": {
              "color": "#EBF0F8"
             },
             "line": {
              "color": "white"
             }
            },
            "header": {
             "fill": {
              "color": "#C8D4E3"
             },
             "line": {
              "color": "white"
             }
            },
            "type": "table"
           }
          ]
         },
         "layout": {
          "annotationdefaults": {
           "arrowcolor": "#2a3f5f",
           "arrowhead": 0,
           "arrowwidth": 1
          },
          "autotypenumbers": "strict",
          "coloraxis": {
           "colorbar": {
            "outlinewidth": 0,
            "ticks": ""
           }
          },
          "colorscale": {
           "diverging": [
            [
             0,
             "#8e0152"
            ],
            [
             0.1,
             "#c51b7d"
            ],
            [
             0.2,
             "#de77ae"
            ],
            [
             0.3,
             "#f1b6da"
            ],
            [
             0.4,
             "#fde0ef"
            ],
            [
             0.5,
             "#f7f7f7"
            ],
            [
             0.6,
             "#e6f5d0"
            ],
            [
             0.7,
             "#b8e186"
            ],
            [
             0.8,
             "#7fbc41"
            ],
            [
             0.9,
             "#4d9221"
            ],
            [
             1,
             "#276419"
            ]
           ],
           "sequential": [
            [
             0,
             "#0d0887"
            ],
            [
             0.1111111111111111,
             "#46039f"
            ],
            [
             0.2222222222222222,
             "#7201a8"
            ],
            [
             0.3333333333333333,
             "#9c179e"
            ],
            [
             0.4444444444444444,
             "#bd3786"
            ],
            [
             0.5555555555555556,
             "#d8576b"
            ],
            [
             0.6666666666666666,
             "#ed7953"
            ],
            [
             0.7777777777777778,
             "#fb9f3a"
            ],
            [
             0.8888888888888888,
             "#fdca26"
            ],
            [
             1,
             "#f0f921"
            ]
           ],
           "sequentialminus": [
            [
             0,
             "#0d0887"
            ],
            [
             0.1111111111111111,
             "#46039f"
            ],
            [
             0.2222222222222222,
             "#7201a8"
            ],
            [
             0.3333333333333333,
             "#9c179e"
            ],
            [
             0.4444444444444444,
             "#bd3786"
            ],
            [
             0.5555555555555556,
             "#d8576b"
            ],
            [
             0.6666666666666666,
             "#ed7953"
            ],
            [
             0.7777777777777778,
             "#fb9f3a"
            ],
            [
             0.8888888888888888,
             "#fdca26"
            ],
            [
             1,
             "#f0f921"
            ]
           ]
          },
          "colorway": [
           "#636efa",
           "#EF553B",
           "#00cc96",
           "#ab63fa",
           "#FFA15A",
           "#19d3f3",
           "#FF6692",
           "#B6E880",
           "#FF97FF",
           "#FECB52"
          ],
          "font": {
           "color": "#2a3f5f"
          },
          "geo": {
           "bgcolor": "white",
           "lakecolor": "white",
           "landcolor": "white",
           "showlakes": true,
           "showland": true,
           "subunitcolor": "#C8D4E3"
          },
          "hoverlabel": {
           "align": "left"
          },
          "hovermode": "closest",
          "mapbox": {
           "style": "light"
          },
          "paper_bgcolor": "white",
          "plot_bgcolor": "white",
          "polar": {
           "angularaxis": {
            "gridcolor": "#EBF0F8",
            "linecolor": "#EBF0F8",
            "ticks": ""
           },
           "bgcolor": "white",
           "radialaxis": {
            "gridcolor": "#EBF0F8",
            "linecolor": "#EBF0F8",
            "ticks": ""
           }
          },
          "scene": {
           "xaxis": {
            "backgroundcolor": "white",
            "gridcolor": "#DFE8F3",
            "gridwidth": 2,
            "linecolor": "#EBF0F8",
            "showbackground": true,
            "ticks": "",
            "zerolinecolor": "#EBF0F8"
           },
           "yaxis": {
            "backgroundcolor": "white",
            "gridcolor": "#DFE8F3",
            "gridwidth": 2,
            "linecolor": "#EBF0F8",
            "showbackground": true,
            "ticks": "",
            "zerolinecolor": "#EBF0F8"
           },
           "zaxis": {
            "backgroundcolor": "white",
            "gridcolor": "#DFE8F3",
            "gridwidth": 2,
            "linecolor": "#EBF0F8",
            "showbackground": true,
            "ticks": "",
            "zerolinecolor": "#EBF0F8"
           }
          },
          "shapedefaults": {
           "line": {
            "color": "#2a3f5f"
           }
          },
          "ternary": {
           "aaxis": {
            "gridcolor": "#DFE8F3",
            "linecolor": "#A2B1C6",
            "ticks": ""
           },
           "baxis": {
            "gridcolor": "#DFE8F3",
            "linecolor": "#A2B1C6",
            "ticks": ""
           },
           "bgcolor": "white",
           "caxis": {
            "gridcolor": "#DFE8F3",
            "linecolor": "#A2B1C6",
            "ticks": ""
           }
          },
          "title": {
           "x": 0.05
          },
          "xaxis": {
           "automargin": true,
           "gridcolor": "#EBF0F8",
           "linecolor": "#EBF0F8",
           "ticks": "",
           "title": {
            "standoff": 15
           },
           "zerolinecolor": "#EBF0F8",
           "zerolinewidth": 2
          },
          "yaxis": {
           "automargin": true,
           "gridcolor": "#EBF0F8",
           "linecolor": "#EBF0F8",
           "ticks": "",
           "title": {
            "standoff": 15
           },
           "zerolinecolor": "#EBF0F8",
           "zerolinewidth": 2
          }
         }
        },
        "title": {
         "text": "Paths Based on Speed Quantiles"
        }
       }
      },
      "image/png": "[encoded data removed]",
      "text/html": [
       "<div>                            <div id=\"36a2310c-6c83-423f-8a8b-3e6b47512a54\" class=\"plotly-graph-div\" style=\"height:525px; width:100%;\"></div>            <script type=\"text/javascript\">                require([\"plotly\"], function(Plotly) {                    window.PLOTLYENV=window.PLOTLYENV || {};                                    if (document.getElementById(\"36a2310c-6c83-423f-8a8b-3e6b47512a54\")) {                    Plotly.newPlot(                        \"36a2310c-6c83-423f-8a8b-3e6b47512a54\",                        [{\"hovertemplate\":\"Speed Quantile=\\uc870\\uae08\\ube60\\ub984\\u003cbr\\u003epickup_latitude=%{lat}\\u003cbr\\u003epickup_longitude=%{lon}\\u003cextra\\u003e\\u003c\\u002fextra\\u003e\",\"lat\":[40.76793670654297,40.764122009277344,40.862701416015625,40.7334213256836,40.7249755859375,40.79740524291992,40.81560134887695,40.75810241699219,40.752891540527344,40.761756896972656,40.789600372314446,40.770069122314446,40.74464797973633,40.72257232666016,40.77674865722656,40.78261184692384,40.75128173828125,40.80135726928711,40.72565841674805,40.755126953125,40.749908447265625,40.7640037536621,40.74989700317384,40.73410034179688,40.74057769775391,40.75857162475586,40.75567626953125,40.76673126220703,40.750431060791016,40.78201675415039,40.794429779052734,40.64473342895508,40.78641128540039,40.766788482666016,40.734493255615234,40.709976196289055],\"legendgroup\":\"\\uc870\\uae08\\ube60\\ub984\",\"lon\":[-73.98215484619139,-73.9558334350586,-73.90413665771484,-74.00246429443358,-73.9844207763672,-73.94892883300781,-73.93981170654298,-73.96311950683594,-73.97013854980467,-73.96741485595702,-73.97001647949219,-73.98792266845702,-73.99140930175781,-74.00359344482422,-73.95974731445312,-73.95343017578125,-73.93987274169923,-73.95948791503906,-73.99471282958984,-73.9874267578125,-73.9881591796875,-73.97434234619139,-73.99164581298828,-73.9994888305664,-73.97972869873048,-73.96356964111328,-73.96500396728516,-73.96306610107422,-73.98802947998048,-73.97631072998048,-73.97160339355469,-73.78192138671875,-73.95282745361328,-73.96295928955078,-74.00151824951173,-74.00458526611328],\"marker\":{\"color\":\"yellow\",\"opacity\":0.5},\"mode\":\"markers\",\"name\":\"\\uc870\\uae08\\ube60\\ub984\",\"showlegend\":true,\"subplot\":\"mapbox\",\"type\":\"scattermapbox\"},{\"hovertemplate\":\"Speed Quantile=\\ub9e4\\uc6b0\\ube60\\ub984\\u003cbr\\u003epickup_latitude=%{lat}\\u003cbr\\u003epickup_longitude=%{lon}\\u003cextra\\u003e\\u003c\\u002fextra\\u003e\",\"lat\":[40.73052978515625,40.75043869018555,40.64477157592773,40.79136657714844,40.72843170166016,40.80809020996094,40.76192474365234,40.74108123779297,40.643508911132805,40.75821304321289,40.76067352294922,40.755401611328125,40.738807678222656,40.784122467041016,40.74114227294922,40.77938079833984,40.64687347412109,40.70758056640625,40.78065872192384,40.737281799316406,40.82606887817384,40.767120361328125,40.75527572631836,40.80709838867188,40.768253326416016,40.64693832397461,40.64469146728516,40.773601531982415,40.756568908691406,40.645286560058594,40.768848419189446,40.76412582397461,40.78915786743164,40.75484848022461,40.75823974609375,40.743614196777344,40.71914291381836],\"legendgroup\":\"\\ub9e4\\uc6b0\\ube60\\ub984\",\"lon\":[-73.98052215576173,-73.99453735351561,-73.78182983398438,-73.97394561767578,-73.99981689453125,-73.9640121459961,-73.97914123535155,-74.00586700439453,-73.79021453857422,-73.98886108398438,-73.98724365234375,-73.96813201904298,-73.98301696777342,-73.9544906616211,-73.99011993408203,-73.94471740722656,-73.79014587402342,-74.00406646728516,-73.98385620117188,-74.00069427490233,-73.94337463378906,-73.9688720703125,-73.96514892578125,-73.95350646972656,-73.98240661621094,-73.78984832763672,-73.78196716308595,-73.87093353271484,-73.98641967773438,-73.7766876220703,-73.86279296875,-73.97107696533203,-73.94364166259764,-73.98343658447266,-73.98924255371094,-73.95078277587889,-74.00506591796875],\"marker\":{\"color\":\"red\",\"opacity\":0.5},\"mode\":\"markers\",\"name\":\"\\ub9e4\\uc6b0\\ube60\\ub984\",\"showlegend\":true,\"subplot\":\"mapbox\",\"type\":\"scattermapbox\"},{\"hovertemplate\":\"Speed Quantile=\\ub9e4\\uc6b0\\ub290\\ub9bc\\u003cbr\\u003epickup_latitude=%{lat}\\u003cbr\\u003epickup_longitude=%{lon}\\u003cextra\\u003e\\u003c\\u002fextra\\u003e\",\"lat\":[40.7683982849121,40.74432373046875,40.72234725952149,40.78168487548828,40.739540100097656,40.72530364990234,40.72259521484375,40.794048309326165,40.757469177246094,40.74184036254882,40.73777770996094,40.74380493164063,40.7467155456543,40.75983047485352,40.76341247558594,40.79840850830078,40.763519287109375,40.75796890258789,40.76140594482422,40.75623321533203,40.77922821044922,40.776123046875,40.76290130615234,40.7393684387207,40.746826171875,40.77154159545898,40.744140625,40.70718383789063,40.74240493774414,40.7324447631836,40.78596115112305,40.73308181762695,40.76639175415039,40.773868560791016,40.74729537963867,40.72243118286133,40.78450012207031],\"legendgroup\":\"\\ub9e4\\uc6b0\\ub290\\ub9bc\",\"lon\":[-73.9656524658203,-73.98423767089844,-73.99722290039062,-73.98113250732422,-73.98706817626953,-73.9925537109375,-74.00528717041014,-73.97196960449217,-73.96942901611328,-74.0008773803711,-73.99762725830078,-73.98795318603516,-73.98993682861328,-73.97090148925781,-73.98194122314453,-73.95243072509764,-73.96932220458984,-73.98609161376953,-73.97090911865233,-73.99331665039062,-73.95587921142578,-73.96235656738281,-73.98320770263672,-74.00737762451173,-73.99005889892578,-73.9818115234375,-73.97913360595702,-74.01651763916014,-74.00107574462889,-74.00647735595702,-73.97699737548828,-74.00662231445312,-73.96286010742188,-73.98236846923827,-73.98175048828125,-73.98615264892578,-73.95220947265625],\"marker\":{\"color\":\"blue\",\"opacity\":0.5},\"mode\":\"markers\",\"name\":\"\\ub9e4\\uc6b0\\ub290\\ub9bc\",\"showlegend\":true,\"subplot\":\"mapbox\",\"type\":\"scattermapbox\"},{\"hovertemplate\":\"Speed Quantile=\\uc870\\uae08\\ub290\\ub9bc\\u003cbr\\u003epickup_latitude=%{lat}\\u003cbr\\u003epickup_longitude=%{lon}\\u003cextra\\u003e\\u003c\\u002fextra\\u003e\",\"lat\":[40.75918960571289,40.74981689453125,40.77298355102539,40.7253303527832,40.76215744018555,40.72407150268555,40.763973236083984,40.76555252075195,40.76704025268555,40.76905059814453,40.74908065795898,40.7724494934082,40.7226448059082,40.75624084472656,40.73820495605469,40.730010986328125,40.71868896484375,40.74298095703125,40.73553085327149,40.75054931640625,40.744510650634766,40.742500305175774,40.7714958190918,40.760250091552734,40.74156188964844,40.759124755859375,40.76424789428711,40.74530792236328,40.75419235229492,40.76359939575195,40.74673461914063,40.73915481567384,40.75053024291992,40.777053833007805,40.74143600463867,40.78707885742188],\"legendgroup\":\"\\uc870\\uae08\\ub290\\ub9bc\",\"lon\":[-73.98509216308595,-73.99140167236328,-73.9782943725586,-73.99237060546875,-73.98597717285155,-74.00241088867188,-73.99028778076173,-73.96790313720702,-73.95381164550781,-73.98491668701173,-74.00839233398438,-73.96265411376953,-73.98736572265625,-73.97042846679686,-73.98540496826173,-73.9792709350586,-74.0053482055664,-73.98845672607422,-73.98988342285155,-73.97480010986328,-73.98111724853516,-73.97420501708984,-73.95969390869139,-73.96861267089844,-73.993896484375,-73.97645568847656,-73.95646667480467,-74.00784301757811,-73.97592163085938,-73.98738861083984,-73.97140502929686,-73.99610137939453,-73.98738098144531,-73.98257446289062,-73.95230865478516,-73.95390319824217],\"marker\":{\"color\":\"green\",\"opacity\":0.5},\"mode\":\"markers\",\"name\":\"\\uc870\\uae08\\ub290\\ub9bc\",\"showlegend\":true,\"subplot\":\"mapbox\",\"type\":\"scattermapbox\"}],                        {\"template\":{\"data\":{\"histogram2dcontour\":[{\"type\":\"histogram2dcontour\",\"colorbar\":{\"outlinewidth\":0,\"ticks\":\"\"},\"colorscale\":[[0.0,\"#0d0887\"],[0.1111111111111111,\"#46039f\"],[0.2222222222222222,\"#7201a8\"],[0.3333333333333333,\"#9c179e\"],[0.4444444444444444,\"#bd3786\"],[0.5555555555555556,\"#d8576b\"],[0.6666666666666666,\"#ed7953\"],[0.7777777777777778,\"#fb9f3a\"],[0.8888888888888888,\"#fdca26\"],[1.0,\"#f0f921\"]]}],\"choropleth\":[{\"type\":\"choropleth\",\"colorbar\":{\"outlinewidth\":0,\"ticks\":\"\"}}],\"histogram2d\":[{\"type\":\"histogram2d\",\"colorbar\":{\"outlinewidth\":0,\"ticks\":\"\"},\"colorscale\":[[0.0,\"#0d0887\"],[0.1111111111111111,\"#46039f\"],[0.2222222222222222,\"#7201a8\"],[0.3333333333333333,\"#9c179e\"],[0.4444444444444444,\"#bd3786\"],[0.5555555555555556,\"#d8576b\"],[0.6666666666666666,\"#ed7953\"],[0.7777777777777778,\"#fb9f3a\"],[0.8888888888888888,\"#fdca26\"],[1.0,\"#f0f921\"]]}],\"heatmap\":[{\"type\":\"heatmap\",\"colorbar\":{\"outlinewidth\":0,\"ticks\":\"\"},\"colorscale\":[[0.0,\"#0d0887\"],[0.1111111111111111,\"#46039f\"],[0.2222222222222222,\"#7201a8\"],[0.3333333333333333,\"#9c179e\"],[0.4444444444444444,\"#bd3786\"],[0.5555555555555556,\"#d8576b\"],[0.6666666666666666,\"#ed7953\"],[0.7777777777777778,\"#fb9f3a\"],[0.8888888888888888,\"#fdca26\"],[1.0,\"#f0f921\"]]}],\"heatmapgl\":[{\"type\":\"heatmapgl\",\"colorbar\":{\"outlinewidth\":0,\"ticks\":\"\"},\"colorscale\":[[0.0,\"#0d0887\"],[0.1111111111111111,\"#46039f\"],[0.2222222222222222,\"#7201a8\"],[0.3333333333333333,\"#9c179e\"],[0.4444444444444444,\"#bd3786\"],[0.5555555555555556,\"#d8576b\"],[0.6666666666666666,\"#ed7953\"],[0.7777777777777778,\"#fb9f3a\"],[0.8888888888888888,\"#fdca26\"],[1.0,\"#f0f921\"]]}],\"contourcarpet\":[{\"type\":\"contourcarpet\",\"colorbar\":{\"outlinewidth\":0,\"ticks\":\"\"}}],\"contour\":[{\"type\":\"contour\",\"colorbar\":{\"outlinewidth\":0,\"ticks\":\"\"},\"colorscale\":[[0.0,\"#0d0887\"],[0.1111111111111111,\"#46039f\"],[0.2222222222222222,\"#7201a8\"],[0.3333333333333333,\"#9c179e\"],[0.4444444444444444,\"#bd3786\"],[0.5555555555555556,\"#d8576b\"],[0.6666666666666666,\"#ed7953\"],[0.7777777777777778,\"#fb9f3a\"],[0.8888888888888888,\"#fdca26\"],[1.0,\"#f0f921\"]]}],\"surface\":[{\"type\":\"surface\",\"colorbar\":{\"outlinewidth\":0,\"ticks\":\"\"},\"colorscale\":[[0.0,\"#0d0887\"],[0.1111111111111111,\"#46039f\"],[0.2222222222222222,\"#7201a8\"],[0.3333333333333333,\"#9c179e\"],[0.4444444444444444,\"#bd3786\"],[0.5555555555555556,\"#d8576b\"],[0.6666666666666666,\"#ed7953\"],[0.7777777777777778,\"#fb9f3a\"],[0.8888888888888888,\"#fdca26\"],[1.0,\"#f0f921\"]]}],\"mesh3d\":[{\"type\":\"mesh3d\",\"colorbar\":{\"outlinewidth\":0,\"ticks\":\"\"}}],\"scatter\":[{\"fillpattern\":{\"fillmode\":\"overlay\",\"size\":10,\"solidity\":0.2},\"type\":\"scatter\"}],\"parcoords\":[{\"type\":\"parcoords\",\"line\":{\"colorbar\":{\"outlinewidth\":0,\"ticks\":\"\"}}}],\"scatterpolargl\":[{\"type\":\"scatterpolargl\",\"marker\":{\"colorbar\":{\"outlinewidth\":0,\"ticks\":\"\"}}}],\"bar\":[{\"error_x\":{\"color\":\"#2a3f5f\"},\"error_y\":{\"color\":\"#2a3f5f\"},\"marker\":{\"line\":{\"color\":\"white\",\"width\":0.5},\"pattern\":{\"fillmode\":\"overlay\",\"size\":10,\"solidity\":0.2}},\"type\":\"bar\"}],\"scattergeo\":[{\"type\":\"scattergeo\",\"marker\":{\"colorbar\":{\"outlinewidth\":0,\"ticks\":\"\"}}}],\"scatterpolar\":[{\"type\":\"scatterpolar\",\"marker\":{\"colorbar\":{\"outlinewidth\":0,\"ticks\":\"\"}}}],\"histogram\":[{\"marker\":{\"pattern\":{\"fillmode\":\"overlay\",\"size\":10,\"solidity\":0.2}},\"type\":\"histogram\"}],\"scattergl\":[{\"type\":\"scattergl\",\"marker\":{\"colorbar\":{\"outlinewidth\":0,\"ticks\":\"\"}}}],\"scatter3d\":[{\"type\":\"scatter3d\",\"line\":{\"colorbar\":{\"outlinewidth\":0,\"ticks\":\"\"}},\"marker\":{\"colorbar\":{\"outlinewidth\":0,\"ticks\":\"\"}}}],\"scattermapbox\":[{\"type\":\"scattermapbox\",\"marker\":{\"colorbar\":{\"outlinewidth\":0,\"ticks\":\"\"}}}],\"scatterternary\":[{\"type\":\"scatterternary\",\"marker\":{\"colorbar\":{\"outlinewidth\":0,\"ticks\":\"\"}}}],\"scattercarpet\":[{\"type\":\"scattercarpet\",\"marker\":{\"colorbar\":{\"outlinewidth\":0,\"ticks\":\"\"}}}],\"carpet\":[{\"aaxis\":{\"endlinecolor\":\"#2a3f5f\",\"gridcolor\":\"#C8D4E3\",\"linecolor\":\"#C8D4E3\",\"minorgridcolor\":\"#C8D4E3\",\"startlinecolor\":\"#2a3f5f\"},\"baxis\":{\"endlinecolor\":\"#2a3f5f\",\"gridcolor\":\"#C8D4E3\",\"linecolor\":\"#C8D4E3\",\"minorgridcolor\":\"#C8D4E3\",\"startlinecolor\":\"#2a3f5f\"},\"type\":\"carpet\"}],\"table\":[{\"cells\":{\"fill\":{\"color\":\"#EBF0F8\"},\"line\":{\"color\":\"white\"}},\"header\":{\"fill\":{\"color\":\"#C8D4E3\"},\"line\":{\"color\":\"white\"}},\"type\":\"table\"}],\"barpolar\":[{\"marker\":{\"line\":{\"color\":\"white\",\"width\":0.5},\"pattern\":{\"fillmode\":\"overlay\",\"size\":10,\"solidity\":0.2}},\"type\":\"barpolar\"}],\"pie\":[{\"automargin\":true,\"type\":\"pie\"}]},\"layout\":{\"autotypenumbers\":\"strict\",\"colorway\":[\"#636efa\",\"#EF553B\",\"#00cc96\",\"#ab63fa\",\"#FFA15A\",\"#19d3f3\",\"#FF6692\",\"#B6E880\",\"#FF97FF\",\"#FECB52\"],\"font\":{\"color\":\"#2a3f5f\"},\"hovermode\":\"closest\",\"hoverlabel\":{\"align\":\"left\"},\"paper_bgcolor\":\"white\",\"plot_bgcolor\":\"white\",\"polar\":{\"bgcolor\":\"white\",\"angularaxis\":{\"gridcolor\":\"#EBF0F8\",\"linecolor\":\"#EBF0F8\",\"ticks\":\"\"},\"radialaxis\":{\"gridcolor\":\"#EBF0F8\",\"linecolor\":\"#EBF0F8\",\"ticks\":\"\"}},\"ternary\":{\"bgcolor\":\"white\",\"aaxis\":{\"gridcolor\":\"#DFE8F3\",\"linecolor\":\"#A2B1C6\",\"ticks\":\"\"},\"baxis\":{\"gridcolor\":\"#DFE8F3\",\"linecolor\":\"#A2B1C6\",\"ticks\":\"\"},\"caxis\":{\"gridcolor\":\"#DFE8F3\",\"linecolor\":\"#A2B1C6\",\"ticks\":\"\"}},\"coloraxis\":{\"colorbar\":{\"outlinewidth\":0,\"ticks\":\"\"}},\"colorscale\":{\"sequential\":[[0.0,\"#0d0887\"],[0.1111111111111111,\"#46039f\"],[0.2222222222222222,\"#7201a8\"],[0.3333333333333333,\"#9c179e\"],[0.4444444444444444,\"#bd3786\"],[0.5555555555555556,\"#d8576b\"],[0.6666666666666666,\"#ed7953\"],[0.7777777777777778,\"#fb9f3a\"],[0.8888888888888888,\"#fdca26\"],[1.0,\"#f0f921\"]],\"sequentialminus\":[[0.0,\"#0d0887\"],[0.1111111111111111,\"#46039f\"],[0.2222222222222222,\"#7201a8\"],[0.3333333333333333,\"#9c179e\"],[0.4444444444444444,\"#bd3786\"],[0.5555555555555556,\"#d8576b\"],[0.6666666666666666,\"#ed7953\"],[0.7777777777777778,\"#fb9f3a\"],[0.8888888888888888,\"#fdca26\"],[1.0,\"#f0f921\"]],\"diverging\":[[0,\"#8e0152\"],[0.1,\"#c51b7d\"],[0.2,\"#de77ae\"],[0.3,\"#f1b6da\"],[0.4,\"#fde0ef\"],[0.5,\"#f7f7f7\"],[0.6,\"#e6f5d0\"],[0.7,\"#b8e186\"],[0.8,\"#7fbc41\"],[0.9,\"#4d9221\"],[1,\"#276419\"]]},\"xaxis\":{\"gridcolor\":\"#EBF0F8\",\"linecolor\":\"#EBF0F8\",\"ticks\":\"\",\"title\":{\"standoff\":15},\"zerolinecolor\":\"#EBF0F8\",\"automargin\":true,\"zerolinewidth\":2},\"yaxis\":{\"gridcolor\":\"#EBF0F8\",\"linecolor\":\"#EBF0F8\",\"ticks\":\"\",\"title\":{\"standoff\":15},\"zerolinecolor\":\"#EBF0F8\",\"automargin\":true,\"zerolinewidth\":2},\"scene\":{\"xaxis\":{\"backgroundcolor\":\"white\",\"gridcolor\":\"#DFE8F3\",\"linecolor\":\"#EBF0F8\",\"showbackground\":true,\"ticks\":\"\",\"zerolinecolor\":\"#EBF0F8\",\"gridwidth\":2},\"yaxis\":{\"backgroundcolor\":\"white\",\"gridcolor\":\"#DFE8F3\",\"linecolor\":\"#EBF0F8\",\"showbackground\":true,\"ticks\":\"\",\"zerolinecolor\":\"#EBF0F8\",\"gridwidth\":2},\"zaxis\":{\"backgroundcolor\":\"white\",\"gridcolor\":\"#DFE8F3\",\"linecolor\":\"#EBF0F8\",\"showbackground\":true,\"ticks\":\"\",\"zerolinecolor\":\"#EBF0F8\",\"gridwidth\":2}},\"shapedefaults\":{\"line\":{\"color\":\"#2a3f5f\"}},\"annotationdefaults\":{\"arrowcolor\":\"#2a3f5f\",\"arrowhead\":0,\"arrowwidth\":1},\"geo\":{\"bgcolor\":\"white\",\"landcolor\":\"white\",\"subunitcolor\":\"#C8D4E3\",\"showland\":true,\"showlakes\":true,\"lakecolor\":\"white\"},\"title\":{\"x\":0.05},\"mapbox\":{\"style\":\"light\"}}},\"mapbox\":{\"domain\":{\"x\":[0.0,1.0],\"y\":[0.0,1.0]},\"center\":{\"lat\":40.75200783716489,\"lon\":-73.96794316540026},\"zoom\":11,\"style\":\"carto-positron\"},\"legend\":{\"title\":{\"text\":\"Speed Quantile\"},\"tracegroupgap\":0},\"title\":{\"text\":\"Paths Based on Speed Quantiles\"},\"showlegend\":true},                        {\"responsive\": true}                    ).then(function(){\n",
       "                            \n",
       "var gd = document.getElementById('36a2310c-6c83-423f-8a8b-3e6b47512a54');\n",
       "var x = new MutationObserver(function (mutations, observer) {{\n",
       "        var display = window.getComputedStyle(gd).display;\n",
       "        if (!display || display === 'none') {{\n",
       "            console.log([gd, 'removed!']);\n",
       "            Plotly.purge(gd);\n",
       "            observer.disconnect();\n",
       "        }}\n",
       "}});\n",
       "\n",
       "// Listen for the removal of the full notebook cells\n",
       "var notebookContainer = gd.closest('#notebook-container');\n",
       "if (notebookContainer) {{\n",
       "    x.observe(notebookContainer, {childList: true});\n",
       "}}\n",
       "\n",
       "// Listen for the clearing of the current output cell\n",
       "var outputEl = gd.closest('.output');\n",
       "if (outputEl) {{\n",
       "    x.observe(outputEl, {childList: true});\n",
       "}}\n",
       "\n",
       "                        })                };                });            </script>        </div>"
      ]
     },
     "metadata": {},
     "output_type": "display_data"
    }
   ],
   "source": [
    "\n"
   ]
  },
  {
   "cell_type": "markdown",
   "id": "976ba53d-757e-4c3f-865a-6d8bc8204997",
   "metadata": {},
   "source": [
    "**힌트**:\n",
    "\n",
    "*힌트2*: 1-(3)에 해당하는 그림을 fig3로 저장한후 아래의 코드를 관찰하세요\n",
    "\n"
   ]
  },
  {
   "cell_type": "code",
   "execution_count": 25,
   "id": "62d8af91-64a3-481e-bb5b-408663acbe2c",
   "metadata": {},
   "outputs": [
    {
     "ename": "NameError",
     "evalue": "name 'fig3' is not defined",
     "output_type": "error",
     "traceback": [
      "\u001b[0;31m---------------------------------------------------------------------------\u001b[0m",
      "\u001b[0;31mNameError\u001b[0m                                 Traceback (most recent call last)",
      "Cell \u001b[0;32mIn[25], line 2\u001b[0m\n\u001b[1;32m      1\u001b[0m \u001b[38;5;28;01mfor\u001b[39;00m i \u001b[38;5;129;01min\u001b[39;00m \u001b[38;5;28mrange\u001b[39m(\u001b[38;5;241m150\u001b[39m):\n\u001b[0;32m----> 2\u001b[0m     \u001b[38;5;28mprint\u001b[39m(\u001b[43mfig3\u001b[49m\u001b[38;5;241m.\u001b[39mdata[i]\u001b[38;5;241m.\u001b[39mmode)\n",
      "\u001b[0;31mNameError\u001b[0m: name 'fig3' is not defined"
     ]
    }
   ],
   "source": [
    "for i in range(150):\n",
    "    print(fig3.data[i].mode)"
   ]
  }
 ],
 "metadata": {
  "kernelspec": {
   "display_name": "Python 3 (ipykernel)",
   "language": "python",
   "name": "python3"
  },
  "language_info": {
   "codemirror_mode": {
    "name": "ipython",
    "version": 3
   },
   "file_extension": ".py",
   "mimetype": "text/x-python",
   "name": "python",
   "nbconvert_exporter": "python",
   "pygments_lexer": "ipython3",
   "version": "3.10.13"
  }
 },
 "nbformat": 4,
 "nbformat_minor": 5
}
